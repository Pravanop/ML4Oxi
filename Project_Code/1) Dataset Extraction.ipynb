{
 "cells": [
  {
   "metadata": {
    "ExecuteTime": {
     "end_time": "2024-12-16T18:07:52.986016Z",
     "start_time": "2024-12-16T18:07:52.982327Z"
    }
   },
   "cell_type": "code",
   "source": [
    "from mp_api.client import MPRester\n",
    "from emmet.core.xas import Edge, Type\n",
    "from tqdm import tqdm\n",
    "from pymatgen.analysis.bond_valence import BVAnalyzer as BVA\n",
    "from pymatgen.core import Element\n",
    "import pickle"
   ],
   "id": "d43c4c034f7f89f8",
   "outputs": [],
   "execution_count": 179
  },
  {
   "metadata": {},
   "cell_type": "markdown",
   "source": "## Extract Data from MP-API\n",
   "id": "cacdf72a0eb4400d"
  },
  {
   "metadata": {
    "ExecuteTime": {
     "end_time": "2024-12-16T18:07:53.568527Z",
     "start_time": "2024-12-16T18:07:53.565411Z"
    }
   },
   "cell_type": "code",
   "source": [
    "def get_XAS(edge_type,element):\n",
    "\twith MPRester(api_key='u1TjwfwfTnpF8IolXF9PBY9RT9YauL84',use_document_model=False,) as mpr:\n",
    "\t\tdocs = mpr.materials.xas.search(edge=edge_type,\n",
    "\t\t\t\t\t\t\t\t\t\tspectrum_type=Type.XANES,\n",
    "\t\t\t\t\t\t\t\t\t\tabsorbing_element=element,\n",
    "\t\t\t\t\t\t\t\t\t\tfields=[\"material_id\", \"xas_id\", \"spectrum\", \"structure\"])\n",
    "\treturn docs"
   ],
   "id": "6cc1393577879b4b",
   "outputs": [],
   "execution_count": 180
  },
  {
   "metadata": {
    "ExecuteTime": {
     "end_time": "2024-12-16T18:07:53.940942Z",
     "start_time": "2024-12-16T18:07:53.937956Z"
    }
   },
   "cell_type": "code",
   "source": [
    "def get_L2_3(element):\n",
    "\tdocs_L23 = get_XAS(Edge.L2_3,element)\n",
    "\treturn docs_L23"
   ],
   "id": "3cd47db9f5e715d2",
   "outputs": [],
   "execution_count": 181
  },
  {
   "metadata": {
    "ExecuteTime": {
     "end_time": "2024-12-16T18:07:54.246798Z",
     "start_time": "2024-12-16T18:07:54.243832Z"
    }
   },
   "cell_type": "code",
   "source": [
    "def process_docs(docs):\n",
    "\tdata_dict = {}\n",
    "\tfor doc in tqdm(docs, desc=\"Processing Docs\"):\n",
    "\t\tspectrum = doc['spectrum']\n",
    "\t\t# print(spectrum.x)\n",
    "\t\tenergy = spectrum.x\n",
    "\t\tintensity = spectrum.y\n",
    "\t\tstructure = spectrum.structure\n",
    "\t\tmp_id = doc['material_id']\n",
    "\t\tif mp_id not in data_dict:\n",
    "\t\t\tdata_dict[mp_id] = {\n",
    "\t\t\t\t'energy': energy,\n",
    "\t\t\t\t'intensity': intensity,\n",
    "\t\t\t\t'structure': structure\n",
    "\t\t\t}\n",
    "\n",
    "\treturn data_dict"
   ],
   "id": "7dcd529d12827351",
   "outputs": [],
   "execution_count": 182
  },
  {
   "metadata": {
    "ExecuteTime": {
     "end_time": "2024-12-16T18:07:54.576546Z",
     "start_time": "2024-12-16T18:07:54.573491Z"
    }
   },
   "cell_type": "code",
   "source": [
    "def extract_data_element_list(element_list):\n",
    "\tdata_dict_total = dict(zip(element_list,[{}]*len(element_list)))\n",
    "\tfor element in element_list:\n",
    "\t\tprint(\"Processing Element: \", element)\n",
    "\t\tdocs = get_L2_3(element)\n",
    "\t\tdata_dict = process_docs(docs)\n",
    "\t\tdata_dict_total[element] = data_dict\n",
    "\n",
    "\treturn data_dict_total"
   ],
   "id": "26a80b72d1652096",
   "outputs": [],
   "execution_count": 183
  },
  {
   "metadata": {
    "ExecuteTime": {
     "end_time": "2024-12-16T18:07:55.147562Z",
     "start_time": "2024-12-16T18:07:55.144277Z"
    }
   },
   "cell_type": "code",
   "source": [
    "# Some tools for easy access\n",
    "def get_keys(data_dict):\n",
    "\treturn list(data_dict.keys())"
   ],
   "id": "810ad996016edbe",
   "outputs": [],
   "execution_count": 184
  },
  {
   "metadata": {
    "ExecuteTime": {
     "end_time": "2024-12-16T18:07:55.582406Z",
     "start_time": "2024-12-16T18:07:55.579967Z"
    }
   },
   "cell_type": "code",
   "source": [
    "def get_oxidation_state(structure, element):\n",
    "\toxi_states = BVA().get_oxi_state_decorated_structure(structure).species\n",
    "\toxi_states = [i.oxi_state for i in oxi_states if i.element == Element(element)]\n",
    "\treturn oxi_states\n"
   ],
   "id": "6e03058b23937ea5",
   "outputs": [],
   "execution_count": 185
  },
  {
   "metadata": {
    "ExecuteTime": {
     "end_time": "2024-12-16T18:07:56.014816Z",
     "start_time": "2024-12-16T18:07:56.012332Z"
    }
   },
   "cell_type": "code",
   "source": [
    "def batch_process_oxidation_states(element, structures):\n",
    "\tproblem = []\n",
    "\toxi_states = []\n",
    "\tfor idx, structure in enumerate(tqdm(structures)):\n",
    "\t\ttry:\n",
    "\t\t\toxi_states.append(get_oxidation_state(structure, element))\n",
    "\t\texcept ValueError:\n",
    "\t\t\toxi_states.append(None)\n",
    "\t\t\tproblem.append(idx)\n",
    "\n",
    "\treturn oxi_states, problem"
   ],
   "id": "650f3e7f5cd13f38",
   "outputs": [],
   "execution_count": 186
  },
  {
   "metadata": {
    "ExecuteTime": {
     "end_time": "2024-12-16T18:07:56.613964Z",
     "start_time": "2024-12-16T18:07:56.608899Z"
    }
   },
   "cell_type": "code",
   "source": [
    "def assign_oxidation_states(data_dict_total):\n",
    "\n",
    "\tfor element, data_dict in data_dict_total.items():\n",
    "\t\tmpids = get_keys(data_dict)\n",
    "\t\tstructures = [data_dict[mpid]['structure'] for mpid in mpids]\n",
    "\t\toxi_states, problem = batch_process_oxidation_states(element, structures)\n",
    "\t\tprint(f\"Problematic structures for {element}: {len(problem)} which is {len(problem)/len(mpids)*100:.2f}%\")\n",
    "\t\tfor idx, mpid in enumerate(mpids):\n",
    "\t\t\tif idx not in problem:\n",
    "\t\t\t\tdata_dict[mpid]['oxidation_state'] = oxi_states[idx]\n",
    "\t\t\telse:\n",
    "\t\t\t\tdata_dict[mpid]['oxidation_state'] = None\n",
    "\n",
    "\treturn data_dict_total\n"
   ],
   "id": "878f362bbc7361eb",
   "outputs": [],
   "execution_count": 187
  },
  {
   "metadata": {
    "ExecuteTime": {
     "end_time": "2024-12-16T18:08:40.688123Z",
     "start_time": "2024-12-16T18:07:57.763583Z"
    }
   },
   "cell_type": "code",
   "source": [
    "element_list = ['Mn', 'Cu', 'Cr', 'V', 'Fe', 'Ni', 'Co']\n",
    "data_dict_total = extract_data_element_list(element_list)"
   ],
   "id": "327aa00c25dbf9b8",
   "outputs": [
    {
     "name": "stdout",
     "output_type": "stream",
     "text": [
      "Processing Element:  Mn\n"
     ]
    },
    {
     "name": "stderr",
     "output_type": "stream",
     "text": [
      "Retrieving XASDoc documents: 100%|██████████| 1030/1030 [00:00<00:00, 2017.52it/s]\n",
      "Processing Docs: 100%|██████████| 1030/1030 [00:00<00:00, 1299288.16it/s]\n"
     ]
    },
    {
     "name": "stdout",
     "output_type": "stream",
     "text": [
      "Processing Element:  Cu\n"
     ]
    },
    {
     "name": "stderr",
     "output_type": "stream",
     "text": [
      "Retrieving XASDoc documents: 100%|██████████| 1533/1533 [00:02<00:00, 667.23it/s]\n",
      "Processing Docs: 100%|██████████| 1533/1533 [00:00<00:00, 739235.23it/s]\n"
     ]
    },
    {
     "name": "stdout",
     "output_type": "stream",
     "text": [
      "Processing Element:  Cr\n"
     ]
    },
    {
     "name": "stderr",
     "output_type": "stream",
     "text": [
      "Retrieving XASDoc documents: 100%|██████████| 580/580 [00:00<00:00, 26158024.95it/s]\n",
      "Processing Docs: 100%|██████████| 580/580 [00:00<00:00, 1371305.70it/s]\n"
     ]
    },
    {
     "name": "stdout",
     "output_type": "stream",
     "text": [
      "Processing Element:  V\n"
     ]
    },
    {
     "name": "stderr",
     "output_type": "stream",
     "text": [
      "Retrieving XASDoc documents: 100%|██████████| 863/863 [00:00<00:00, 28727653.59it/s]\n",
      "Processing Docs: 100%|██████████| 863/863 [00:00<00:00, 1265181.53it/s]\n"
     ]
    },
    {
     "name": "stdout",
     "output_type": "stream",
     "text": [
      "Processing Element:  Fe\n"
     ]
    },
    {
     "name": "stderr",
     "output_type": "stream",
     "text": [
      "Retrieving XASDoc documents: 100%|██████████| 1272/1272 [00:02<00:00, 529.04it/s]\n",
      "Processing Docs: 100%|██████████| 1272/1272 [00:00<00:00, 1163864.46it/s]\n"
     ]
    },
    {
     "name": "stdout",
     "output_type": "stream",
     "text": [
      "Processing Element:  Ni\n"
     ]
    },
    {
     "name": "stderr",
     "output_type": "stream",
     "text": [
      "Retrieving XASDoc documents: 100%|██████████| 998/998 [00:00<00:00, 38053776.29it/s]\n",
      "Processing Docs: 100%|██████████| 998/998 [00:00<00:00, 1037658.75it/s]\n"
     ]
    },
    {
     "name": "stdout",
     "output_type": "stream",
     "text": [
      "Processing Element:  Co\n"
     ]
    },
    {
     "name": "stderr",
     "output_type": "stream",
     "text": [
      "Retrieving XASDoc documents: 100%|██████████| 1065/1065 [00:01<00:00, 709.55it/s]\n",
      "Processing Docs: 100%|██████████| 1065/1065 [00:00<00:00, 452760.36it/s]\n"
     ]
    }
   ],
   "execution_count": 188
  },
  {
   "metadata": {
    "ExecuteTime": {
     "end_time": "2024-12-16T18:17:34.107558Z",
     "start_time": "2024-12-16T18:08:40.693070Z"
    }
   },
   "cell_type": "code",
   "source": "data_dict_total = assign_oxidation_states(data_dict_total)",
   "id": "528d32b4092c4b1a",
   "outputs": [
    {
     "name": "stderr",
     "output_type": "stream",
     "text": [
      "100%|██████████| 1030/1030 [01:17<00:00, 13.35it/s]\n"
     ]
    },
    {
     "name": "stdout",
     "output_type": "stream",
     "text": [
      "Problematic structures for Mn: 176 which is 17.09%\n"
     ]
    },
    {
     "name": "stderr",
     "output_type": "stream",
     "text": [
      "100%|██████████| 1533/1533 [01:53<00:00, 13.47it/s]\n"
     ]
    },
    {
     "name": "stdout",
     "output_type": "stream",
     "text": [
      "Problematic structures for Cu: 220 which is 14.35%\n"
     ]
    },
    {
     "name": "stderr",
     "output_type": "stream",
     "text": [
      "100%|██████████| 580/580 [00:55<00:00, 10.41it/s]\n"
     ]
    },
    {
     "name": "stdout",
     "output_type": "stream",
     "text": [
      "Problematic structures for Cr: 108 which is 18.62%\n"
     ]
    },
    {
     "name": "stderr",
     "output_type": "stream",
     "text": [
      "100%|██████████| 863/863 [00:50<00:00, 17.11it/s] \n"
     ]
    },
    {
     "name": "stdout",
     "output_type": "stream",
     "text": [
      "Problematic structures for V: 96 which is 11.12%\n"
     ]
    },
    {
     "name": "stderr",
     "output_type": "stream",
     "text": [
      " 72%|███████▏  | 911/1272 [01:11<00:06, 52.72it/s]spglib: ssm_get_exact_positions failed.\n",
      "spglib: get_bravais_exact_positions_and_lattice failed.\n",
      "spglib: ssm_get_exact_positions failed.\n",
      "spglib: get_bravais_exact_positions_and_lattice failed.\n",
      "100%|██████████| 1272/1272 [01:21<00:00, 15.59it/s]\n"
     ]
    },
    {
     "name": "stdout",
     "output_type": "stream",
     "text": [
      "Problematic structures for Fe: 263 which is 20.68%\n"
     ]
    },
    {
     "name": "stderr",
     "output_type": "stream",
     "text": [
      "100%|██████████| 998/998 [00:50<00:00, 19.66it/s]\n"
     ]
    },
    {
     "name": "stdout",
     "output_type": "stream",
     "text": [
      "Problematic structures for Ni: 340 which is 34.07%\n"
     ]
    },
    {
     "name": "stderr",
     "output_type": "stream",
     "text": [
      "100%|██████████| 1065/1065 [01:43<00:00, 10.24it/s]"
     ]
    },
    {
     "name": "stdout",
     "output_type": "stream",
     "text": [
      "Problematic structures for Co: 290 which is 27.23%\n"
     ]
    },
    {
     "name": "stderr",
     "output_type": "stream",
     "text": [
      "\n"
     ]
    }
   ],
   "execution_count": 189
  },
  {
   "metadata": {
    "ExecuteTime": {
     "end_time": "2024-12-16T18:17:34.134610Z",
     "start_time": "2024-12-16T18:17:34.129148Z"
    }
   },
   "cell_type": "code",
   "source": [
    "def save_data(data_dict_total, filename):\n",
    "\twith open(filename, 'wb') as f:\n",
    "\t\tpickle.dump(data_dict_total, f)"
   ],
   "id": "4ad3403adf045d56",
   "outputs": [],
   "execution_count": 190
  },
  {
   "metadata": {
    "ExecuteTime": {
     "end_time": "2024-12-16T18:17:36.174653Z",
     "start_time": "2024-12-16T18:17:34.142452Z"
    }
   },
   "cell_type": "code",
   "source": "save_data(data_dict_total, f'data_{\"-\".join(element_list)}.pickle')",
   "id": "d0ad1763052234e4",
   "outputs": [],
   "execution_count": 191
  },
  {
   "metadata": {},
   "cell_type": "code",
   "outputs": [],
   "execution_count": null,
   "source": "",
   "id": "efa2d27468480f41"
  }
 ],
 "metadata": {
  "kernelspec": {
   "display_name": "Python 3",
   "language": "python",
   "name": "python3"
  },
  "language_info": {
   "codemirror_mode": {
    "name": "ipython",
    "version": 2
   },
   "file_extension": ".py",
   "mimetype": "text/x-python",
   "name": "python",
   "nbconvert_exporter": "python",
   "pygments_lexer": "ipython2",
   "version": "2.7.6"
  }
 },
 "nbformat": 4,
 "nbformat_minor": 5
}
