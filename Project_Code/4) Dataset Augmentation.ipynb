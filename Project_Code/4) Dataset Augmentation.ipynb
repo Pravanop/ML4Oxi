{
 "cells": [
  {
   "cell_type": "code",
   "execution_count": null,
   "id": "initial_id",
   "metadata": {
    "collapsed": true
   },
   "outputs": [],
   "source": [
    ""
   ]
  },
  {
   "metadata": {},
   "cell_type": "markdown",
   "source": "## Noise Augmentation",
   "id": "723b6e0b69929af9"
  },
  {
   "metadata": {},
   "cell_type": "code",
   "outputs": [],
   "execution_count": null,
   "source": "",
   "id": "bf035f915afadfaf"
  },
  {
   "metadata": {},
   "cell_type": "markdown",
   "source": "## Instrumental Broadening",
   "id": "1827ab0d20ab6f7b"
  },
  {
   "metadata": {},
   "cell_type": "code",
   "outputs": [],
   "execution_count": null,
   "source": "",
   "id": "b5cdb3b5ea07e2e7"
  },
  {
   "metadata": {},
   "cell_type": "markdown",
   "source": "## Shift Augmentation",
   "id": "35f6a180e65ed19d"
  },
  {
   "metadata": {
    "ExecuteTime": {
     "end_time": "2024-12-16T22:24:38.859462Z",
     "start_time": "2024-12-16T22:24:38.855071Z"
    }
   },
   "cell_type": "code",
   "source": [
    "import numpy as np\n",
    "# given a set of vectors consisting of values, move all the values to the right or left by a certain amount\n",
    "\n",
    "def shift_spectra(energy_interval, energy_shift, intensity):\n",
    "\n",
    "\trandom_shift = np.random.uniform(-energy_shift, energy_shift, size = (intensity.shape[0], 1))\n",
    "\tshifted_energy = random_shift/energy_interval\n",
    "\tshifted_energy = shifted_energy.astype(int)\n",
    "\tintensity = intensity.copy()\n",
    "\tfor idx, inten in enumerate(intensity):\n",
    "\t\tintensity[idx] = np.roll(inten, shifted_energy[idx])\n",
    "\n",
    "\treturn intensity\n",
    "\n",
    "\n",
    "intensity = np.sin(np.linspace(0, 1, 1000)) + np.random.normal(0, 0.1, 1000)\n",
    "intensity = np.tile(intensity, (10, 1))\n",
    "energy_interval = 0.1\n",
    "energy_shift = 10\n",
    "shifted_intensity = shift_spectra(energy_interval, energy_shift, intensity)"
   ],
   "id": "380333ee63c5947",
   "outputs": [
    {
     "name": "stdout",
     "output_type": "stream",
     "text": [
      "[[-76]\n",
      " [-56]\n",
      " [ 55]\n",
      " [-97]\n",
      " [-18]\n",
      " [ 41]\n",
      " [-41]\n",
      " [ 93]\n",
      " [-98]\n",
      " [ 43]]\n"
     ]
    }
   ],
   "execution_count": 26
  },
  {
   "metadata": {},
   "cell_type": "markdown",
   "source": "## Total Augmentation pipeline",
   "id": "e651c9b42d28439a"
  },
  {
   "metadata": {},
   "cell_type": "code",
   "outputs": [],
   "execution_count": null,
   "source": "",
   "id": "630c2611bcdb10e0"
  }
 ],
 "metadata": {
  "kernelspec": {
   "display_name": "Python 3",
   "language": "python",
   "name": "python3"
  },
  "language_info": {
   "codemirror_mode": {
    "name": "ipython",
    "version": 2
   },
   "file_extension": ".py",
   "mimetype": "text/x-python",
   "name": "python",
   "nbconvert_exporter": "python",
   "pygments_lexer": "ipython2",
   "version": "2.7.6"
  }
 },
 "nbformat": 4,
 "nbformat_minor": 5
}
