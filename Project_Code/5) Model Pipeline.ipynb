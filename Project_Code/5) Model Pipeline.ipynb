{
 "cells": [
  {
   "metadata": {
    "ExecuteTime": {
     "end_time": "2024-12-16T23:20:34.835535Z",
     "start_time": "2024-12-16T23:20:34.818396Z"
    }
   },
   "cell_type": "code",
   "source": [
    "from torch import nn\n",
    "import wandb\n",
    "import torch\n",
    "import numpy as np\n",
    "device = torch.device('cuda' if torch.cuda.is_available() else 'cpu')"
   ],
   "id": "4a1ac8705780644f",
   "outputs": [],
   "execution_count": 4
  },
  {
   "metadata": {},
   "cell_type": "markdown",
   "source": "## Data Normalization",
   "id": "1d64b4b7b522a891"
  },
  {
   "metadata": {
    "ExecuteTime": {
     "end_time": "2024-12-16T23:20:38.073904Z",
     "start_time": "2024-12-16T23:20:37.956344Z"
    }
   },
   "cell_type": "code",
   "source": [
    "#load data\n",
    "\n",
    "path = '../dataset'\n",
    "x_train = np.load(f'{path}/x_train.npy')\n",
    "y_train = np.load(f'{path}/y_train.npy')\n",
    "x_test = np.load(f'{path}/x_test.npy')\n",
    "y_test = np.load(f'{path}/y_test.npy')\n"
   ],
   "id": "fb53fa75553123d3",
   "outputs": [],
   "execution_count": 5
  },
  {
   "metadata": {},
   "cell_type": "markdown",
   "source": "## Hyperparameter Tuning",
   "id": "a39d37532a612f1d"
  },
  {
   "metadata": {
    "ExecuteTime": {
     "end_time": "2024-12-16T23:25:52.247991Z",
     "start_time": "2024-12-16T23:25:52.242686Z"
    }
   },
   "cell_type": "code",
   "source": [
    "learning_rate = 0.001\n",
    "batch_size = 32\n",
    "num_epochs = 5"
   ],
   "id": "fa920f157cfa5e61",
   "outputs": [],
   "execution_count": 9
  },
  {
   "metadata": {},
   "cell_type": "markdown",
   "source": "## Model Training",
   "id": "278631d6039f4ebd"
  },
  {
   "metadata": {},
   "cell_type": "markdown",
   "source": "### Model Definitions",
   "id": "1720580668c3594"
  },
  {
   "metadata": {
    "ExecuteTime": {
     "end_time": "2024-12-16T23:26:12.244979Z",
     "start_time": "2024-12-16T23:26:12.240047Z"
    }
   },
   "cell_type": "code",
   "source": [
    "\n",
    "\n",
    "# simple neural network\n",
    "\n",
    "class SimpleNN(nn.Module):\n",
    "\tdef __init__(self, input_size, num_classes):\n",
    "\t\tsuper(SimpleNN, self).__init__()\n",
    "\t\tself.fc1 = nn.Linear(input_size, int(input_size/2))\n",
    "\t\tself.relu = nn.ReLU()\n",
    "\t\tself.fc2 = nn.Linear(int(input_size/2), int(input_size/4))\n",
    "\t\tself.fc3 = nn.Linear(int(input_size/4), num_classes)\n",
    "\n",
    "\tdef forward(self, x):\n",
    "\t\tout = self.fc1(x)\n",
    "\t\tout = self.relu(out)\n",
    "\t\tout = self.fc2(out)\n",
    "\t\tout = self.relu(out)\n",
    "\t\tout = self.fc3(out)\n",
    "\t\treturn out\n"
   ],
   "id": "787e0f279aa86ccf",
   "outputs": [],
   "execution_count": 10
  },
  {
   "metadata": {
    "ExecuteTime": {
     "end_time": "2024-12-16T23:26:12.784600Z",
     "start_time": "2024-12-16T23:26:12.780768Z"
    }
   },
   "cell_type": "code",
   "source": [
    "# convolutional neural network\n",
    "# variable input length\n",
    "\n",
    "class ConvNN(nn.Module):\n",
    "\n",
    "\tdef __init__(self, num_classes):\n",
    "\t\tsuper(ConvNN, self).__init__()\n",
    "\t\tself.layer1 = nn.Sequential(\n",
    "\t\t\tnn.Conv1d(1, 16, kernel_size=5, stride=1, padding=2),\n",
    "\t\t\tnn.ReLU(),\n",
    "\t\t\tnn.MaxPool2d(kernel_size=2, stride=2))\n",
    "\t\tself.layer2 = nn.Sequential(\n",
    "\t\t\tnn.Conv2d(16, 32, kernel_size=5, stride=1, padding=2),\n",
    "\t\t\tnn.ReLU(),\n",
    "\t\t\tnn.MaxPool2d(kernel_size=2, stride=2))\n",
    "\t\tself.fc = nn.Linear(7*7*32, num_classes)"
   ],
   "id": "baacb2b0e78825bc",
   "outputs": [],
   "execution_count": 11
  },
  {
   "metadata": {
    "ExecuteTime": {
     "end_time": "2024-12-16T23:26:13.955520Z",
     "start_time": "2024-12-16T23:26:13.844905Z"
    }
   },
   "cell_type": "code",
   "source": [
    "# Make data loaders\n",
    "\n",
    "from torch.utils.data import DataLoader, TensorDataset\n",
    "\n",
    "train_dataset = TensorDataset(torch.Tensor(x_train), torch.Tensor(y_train))\n",
    "test_dataset = TensorDataset(torch.Tensor(x_test), torch.Tensor(y_test))\n",
    "\n",
    "train_loader = DataLoader(train_dataset, batch_size=32, shuffle=True)\n",
    "test_loader = DataLoader(test_dataset, batch_size=32, shuffle=False)\n"
   ],
   "id": "93f7bdc7a5618fd1",
   "outputs": [],
   "execution_count": 12
  },
  {
   "metadata": {},
   "cell_type": "markdown",
   "source": "### Training Loop",
   "id": "2aaaf725233afad8"
  },
  {
   "metadata": {
    "ExecuteTime": {
     "end_time": "2024-12-16T23:30:55.442785Z",
     "start_time": "2024-12-16T23:30:55.427176Z"
    }
   },
   "cell_type": "code",
   "source": [
    "# model training\n",
    "def train_model(model, criterion, optimizer, num_epochs, train_loader, test_loader, wandb):\n",
    "\ttotal_step = len(train_loader)\n",
    "\tfor epoch in range(num_epochs):\n",
    "\t\tfor i, (images, labels) in enumerate(train_loader):\n",
    "\t\t\timages = images.to(device)\n",
    "\t\t\tlabels = labels.to(device)\n",
    "\t\t\toutputs = model(images)\n",
    "\t\t\tprint(labels.size(), outputs.size())\n",
    "\t\t\tloss = criterion(outputs, labels)\n",
    "\t\t\toptimizer.zero_grad()\n",
    "\t\t\tloss.backward()\n",
    "\t\t\toptimizer.step()\n",
    "\t\t\tif (i+1) % 10 == 0:\n",
    "\t\t\t\tprint ('Epoch [{}/{}], Step [{}/{}], Loss: {:.4f}'\n",
    "\t\t\t\t\t   .format(epoch+1, num_epochs, i+1, total_step, loss.item()))\n",
    "\t\t\t\twandb.log({'training_loss': loss.item()})\n",
    "\t\tval_loss = 0\n",
    "\t\twith torch.no_grad():\n",
    "\t\t\tfor i, (images, labels) in enumerate(test_loader):\n",
    "\t\t\t\timages = images.to(device)\n",
    "\t\t\t\tlabels = labels.to(device)\n",
    "\t\t\t\toutputs = model(images)\n",
    "\t\t\t\tval_loss += criterion(outputs, labels)\n",
    "\t\tprint('Validation loss: {:.4f}'.format(val_loss))\n",
    "\t\twandb.log({'validation_loss': val_loss})\n",
    "\t# break\n",
    "\treturn model"
   ],
   "id": "27e6afdbbe12af71",
   "outputs": [],
   "execution_count": 21
  },
  {
   "metadata": {
    "ExecuteTime": {
     "end_time": "2024-12-16T23:31:01.563648Z",
     "start_time": "2024-12-16T23:30:56.882720Z"
    }
   },
   "cell_type": "code",
   "source": [
    "input_size = x_train.shape[1]\n",
    "num_classes = y_train.shape[1]\n",
    "lr = learning_rate\n",
    "training_size = len(train_loader)\n",
    "testing_size = len(test_loader)\n",
    "model = SimpleNN(input_size, num_classes).to(device)\n",
    "batch_size = batch_size\n",
    "num_epochs = num_epochs\n",
    "architecture = 'FNN' if isinstance(model, SimpleNN) else 'CNN'\n",
    "print(architecture)\n",
    "\n",
    "wandb.init(\n",
    "    # set the wandb project where this run will be logged\n",
    "    project=\"ml4Oxi\",\n",
    "    # track hyperparameters and run metadata\n",
    "    config={\n",
    "    \"learning_rate\": lr,\n",
    "    \"architecture\": architecture,\n",
    "    \"dataset\": \"MP_only\",\n",
    "    \"epochs\": num_epochs,\n",
    "    }\n",
    ")\n",
    "\n",
    "criterion = nn.MSELoss()\n",
    "optimizer = torch.optim.Adam(model.parameters(), lr=lr)\n",
    "\n",
    "model = train_model(model, criterion, optimizer, 5, train_loader, test_loader, wandb)\n"
   ],
   "id": "c3c9a69aed69be1",
   "outputs": [
    {
     "name": "stdout",
     "output_type": "stream",
     "text": [
      "FNN\n",
      "torch.Size([32, 8]) torch.Size([32, 8])\n",
      "torch.Size([32, 8]) torch.Size([32, 8])\n",
      "torch.Size([32, 8]) torch.Size([32, 8])\n",
      "torch.Size([32, 8]) torch.Size([32, 8])\n",
      "torch.Size([32, 8]) torch.Size([32, 8])\n",
      "torch.Size([32, 8]) torch.Size([32, 8])\n",
      "torch.Size([32, 8]) torch.Size([32, 8])\n",
      "torch.Size([32, 8]) torch.Size([32, 8])\n",
      "torch.Size([32, 8]) torch.Size([32, 8])\n",
      "torch.Size([32, 8]) torch.Size([32, 8])\n",
      "Epoch [1/5], Step [10/147], Loss: 0.0703\n",
      "torch.Size([32, 8]) torch.Size([32, 8])\n",
      "torch.Size([32, 8]) torch.Size([32, 8])\n",
      "torch.Size([32, 8]) torch.Size([32, 8])\n",
      "torch.Size([32, 8]) torch.Size([32, 8])\n",
      "torch.Size([32, 8]) torch.Size([32, 8])\n",
      "torch.Size([32, 8]) torch.Size([32, 8])\n",
      "torch.Size([32, 8]) torch.Size([32, 8])\n",
      "torch.Size([32, 8]) torch.Size([32, 8])\n",
      "torch.Size([32, 8]) torch.Size([32, 8])\n",
      "torch.Size([32, 8]) torch.Size([32, 8])\n",
      "Epoch [1/5], Step [20/147], Loss: 0.0645\n",
      "torch.Size([32, 8]) torch.Size([32, 8])\n",
      "torch.Size([32, 8]) torch.Size([32, 8])\n",
      "torch.Size([32, 8]) torch.Size([32, 8])\n",
      "torch.Size([32, 8]) torch.Size([32, 8])\n",
      "torch.Size([32, 8]) torch.Size([32, 8])\n",
      "torch.Size([32, 8]) torch.Size([32, 8])\n",
      "torch.Size([32, 8]) torch.Size([32, 8])\n",
      "torch.Size([32, 8]) torch.Size([32, 8])\n",
      "torch.Size([32, 8]) torch.Size([32, 8])\n",
      "torch.Size([32, 8]) torch.Size([32, 8])\n",
      "Epoch [1/5], Step [30/147], Loss: 0.0707\n",
      "torch.Size([32, 8]) torch.Size([32, 8])\n",
      "torch.Size([32, 8]) torch.Size([32, 8])\n",
      "torch.Size([32, 8]) torch.Size([32, 8])\n",
      "torch.Size([32, 8]) torch.Size([32, 8])\n",
      "torch.Size([32, 8]) torch.Size([32, 8])\n",
      "torch.Size([32, 8]) torch.Size([32, 8])\n",
      "torch.Size([32, 8]) torch.Size([32, 8])\n",
      "torch.Size([32, 8]) torch.Size([32, 8])\n",
      "torch.Size([32, 8]) torch.Size([32, 8])\n",
      "torch.Size([32, 8]) torch.Size([32, 8])\n",
      "Epoch [1/5], Step [40/147], Loss: 0.0570\n",
      "torch.Size([32, 8]) torch.Size([32, 8])\n",
      "torch.Size([32, 8]) torch.Size([32, 8])\n",
      "torch.Size([32, 8]) torch.Size([32, 8])\n",
      "torch.Size([32, 8]) torch.Size([32, 8])\n",
      "torch.Size([32, 8]) torch.Size([32, 8])\n",
      "torch.Size([32, 8]) torch.Size([32, 8])\n",
      "torch.Size([32, 8]) torch.Size([32, 8])\n",
      "torch.Size([32, 8]) torch.Size([32, 8])\n",
      "torch.Size([32, 8]) torch.Size([32, 8])\n",
      "torch.Size([32, 8]) torch.Size([32, 8])\n",
      "Epoch [1/5], Step [50/147], Loss: 0.0671\n",
      "torch.Size([32, 8]) torch.Size([32, 8])\n",
      "torch.Size([32, 8]) torch.Size([32, 8])\n",
      "torch.Size([32, 8]) torch.Size([32, 8])\n",
      "torch.Size([32, 8]) torch.Size([32, 8])\n",
      "torch.Size([32, 8]) torch.Size([32, 8])\n",
      "torch.Size([32, 8]) torch.Size([32, 8])\n",
      "torch.Size([32, 8]) torch.Size([32, 8])\n",
      "torch.Size([32, 8]) torch.Size([32, 8])\n",
      "torch.Size([32, 8]) torch.Size([32, 8])\n",
      "torch.Size([32, 8]) torch.Size([32, 8])\n",
      "Epoch [1/5], Step [60/147], Loss: 0.0634\n",
      "torch.Size([32, 8]) torch.Size([32, 8])\n",
      "torch.Size([32, 8]) torch.Size([32, 8])\n",
      "torch.Size([32, 8]) torch.Size([32, 8])\n",
      "torch.Size([32, 8]) torch.Size([32, 8])\n",
      "torch.Size([32, 8]) torch.Size([32, 8])\n",
      "torch.Size([32, 8]) torch.Size([32, 8])\n",
      "torch.Size([32, 8]) torch.Size([32, 8])\n",
      "torch.Size([32, 8]) torch.Size([32, 8])\n",
      "torch.Size([32, 8]) torch.Size([32, 8])\n",
      "torch.Size([32, 8]) torch.Size([32, 8])\n",
      "Epoch [1/5], Step [70/147], Loss: 0.0660\n",
      "torch.Size([32, 8]) torch.Size([32, 8])\n",
      "torch.Size([32, 8]) torch.Size([32, 8])\n",
      "torch.Size([32, 8]) torch.Size([32, 8])\n",
      "torch.Size([32, 8]) torch.Size([32, 8])\n",
      "torch.Size([32, 8]) torch.Size([32, 8])\n",
      "torch.Size([32, 8]) torch.Size([32, 8])\n",
      "torch.Size([32, 8]) torch.Size([32, 8])\n",
      "torch.Size([32, 8]) torch.Size([32, 8])\n",
      "torch.Size([32, 8]) torch.Size([32, 8])\n",
      "torch.Size([32, 8]) torch.Size([32, 8])\n",
      "Epoch [1/5], Step [80/147], Loss: 0.0745\n",
      "torch.Size([32, 8]) torch.Size([32, 8])\n",
      "torch.Size([32, 8]) torch.Size([32, 8])\n",
      "torch.Size([32, 8]) torch.Size([32, 8])\n",
      "torch.Size([32, 8]) torch.Size([32, 8])\n",
      "torch.Size([32, 8]) torch.Size([32, 8])\n",
      "torch.Size([32, 8]) torch.Size([32, 8])\n",
      "torch.Size([32, 8]) torch.Size([32, 8])\n",
      "torch.Size([32, 8]) torch.Size([32, 8])\n",
      "torch.Size([32, 8]) torch.Size([32, 8])\n",
      "torch.Size([32, 8]) torch.Size([32, 8])\n",
      "Epoch [1/5], Step [90/147], Loss: 0.0608\n",
      "torch.Size([32, 8]) torch.Size([32, 8])\n",
      "torch.Size([32, 8]) torch.Size([32, 8])\n",
      "torch.Size([32, 8]) torch.Size([32, 8])\n",
      "torch.Size([32, 8]) torch.Size([32, 8])\n",
      "torch.Size([32, 8]) torch.Size([32, 8])\n",
      "torch.Size([32, 8]) torch.Size([32, 8])\n",
      "torch.Size([32, 8]) torch.Size([32, 8])\n",
      "torch.Size([32, 8]) torch.Size([32, 8])\n",
      "torch.Size([32, 8]) torch.Size([32, 8])\n",
      "torch.Size([32, 8]) torch.Size([32, 8])\n",
      "Epoch [1/5], Step [100/147], Loss: 0.0558\n",
      "torch.Size([32, 8]) torch.Size([32, 8])\n",
      "torch.Size([32, 8]) torch.Size([32, 8])\n",
      "torch.Size([32, 8]) torch.Size([32, 8])\n",
      "torch.Size([32, 8]) torch.Size([32, 8])\n",
      "torch.Size([32, 8]) torch.Size([32, 8])\n",
      "torch.Size([32, 8]) torch.Size([32, 8])\n",
      "torch.Size([32, 8]) torch.Size([32, 8])\n",
      "torch.Size([32, 8]) torch.Size([32, 8])\n",
      "torch.Size([32, 8]) torch.Size([32, 8])\n",
      "torch.Size([32, 8]) torch.Size([32, 8])\n",
      "Epoch [1/5], Step [110/147], Loss: 0.0556\n",
      "torch.Size([32, 8]) torch.Size([32, 8])\n",
      "torch.Size([32, 8]) torch.Size([32, 8])\n",
      "torch.Size([32, 8]) torch.Size([32, 8])\n",
      "torch.Size([32, 8]) torch.Size([32, 8])\n",
      "torch.Size([32, 8]) torch.Size([32, 8])\n",
      "torch.Size([32, 8]) torch.Size([32, 8])\n",
      "torch.Size([32, 8]) torch.Size([32, 8])\n",
      "torch.Size([32, 8]) torch.Size([32, 8])\n",
      "torch.Size([32, 8]) torch.Size([32, 8])\n",
      "torch.Size([32, 8]) torch.Size([32, 8])\n",
      "Epoch [1/5], Step [120/147], Loss: 0.0687\n",
      "torch.Size([32, 8]) torch.Size([32, 8])\n",
      "torch.Size([32, 8]) torch.Size([32, 8])\n",
      "torch.Size([32, 8]) torch.Size([32, 8])\n",
      "torch.Size([32, 8]) torch.Size([32, 8])\n",
      "torch.Size([32, 8]) torch.Size([32, 8])\n",
      "torch.Size([32, 8]) torch.Size([32, 8])\n",
      "torch.Size([32, 8]) torch.Size([32, 8])\n",
      "torch.Size([32, 8]) torch.Size([32, 8])\n",
      "torch.Size([32, 8]) torch.Size([32, 8])\n",
      "torch.Size([32, 8]) torch.Size([32, 8])\n",
      "Epoch [1/5], Step [130/147], Loss: 0.0685\n",
      "torch.Size([32, 8]) torch.Size([32, 8])\n",
      "torch.Size([32, 8]) torch.Size([32, 8])\n",
      "torch.Size([32, 8]) torch.Size([32, 8])\n",
      "torch.Size([32, 8]) torch.Size([32, 8])\n",
      "torch.Size([32, 8]) torch.Size([32, 8])\n",
      "torch.Size([32, 8]) torch.Size([32, 8])\n",
      "torch.Size([32, 8]) torch.Size([32, 8])\n",
      "torch.Size([32, 8]) torch.Size([32, 8])\n",
      "torch.Size([32, 8]) torch.Size([32, 8])\n",
      "torch.Size([32, 8]) torch.Size([32, 8])\n",
      "Epoch [1/5], Step [140/147], Loss: 0.0526\n",
      "torch.Size([32, 8]) torch.Size([32, 8])\n",
      "torch.Size([32, 8]) torch.Size([32, 8])\n",
      "torch.Size([32, 8]) torch.Size([32, 8])\n",
      "torch.Size([32, 8]) torch.Size([32, 8])\n",
      "torch.Size([32, 8]) torch.Size([32, 8])\n",
      "torch.Size([32, 8]) torch.Size([32, 8])\n",
      "torch.Size([6, 8]) torch.Size([6, 8])\n",
      "Validation loss: 2.2215\n"
     ]
    }
   ],
   "execution_count": 22
  },
  {
   "metadata": {},
   "cell_type": "markdown",
   "source": "## Performance Analysis",
   "id": "4bb02b47f9bf6ff7"
  },
  {
   "metadata": {},
   "cell_type": "code",
   "outputs": [],
   "execution_count": null,
   "source": "",
   "id": "d81e6306912a19b8"
  }
 ],
 "metadata": {
  "kernelspec": {
   "display_name": "Python 3",
   "language": "python",
   "name": "python3"
  },
  "language_info": {
   "codemirror_mode": {
    "name": "ipython",
    "version": 2
   },
   "file_extension": ".py",
   "mimetype": "text/x-python",
   "name": "python",
   "nbconvert_exporter": "python",
   "pygments_lexer": "ipython2",
   "version": "2.7.6"
  }
 },
 "nbformat": 4,
 "nbformat_minor": 5
}
