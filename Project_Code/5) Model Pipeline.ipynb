{
 "cells": [
  {
   "metadata": {
    "ExecuteTime": {
     "end_time": "2024-12-17T19:39:56.833366Z",
     "start_time": "2024-12-17T19:39:56.829615Z"
    }
   },
   "cell_type": "code",
   "source": [
    "from torch import nn\n",
    "from torch.ao.nn.quantized import Dropout\n",
    "import torch.nn.functional as F\n",
    "import wandb\n",
    "import torch\n",
    "\n",
    "import numpy as np\n",
    "device = torch.device('cuda' if torch.cuda.is_available() else 'cpu')"
   ],
   "id": "b1172c183c0c5986",
   "outputs": [],
   "execution_count": 16
  },
  {
   "metadata": {},
   "cell_type": "markdown",
   "source": "## Data Normalization",
   "id": "6c2105dcae8436ce"
  },
  {
   "metadata": {
    "ExecuteTime": {
     "end_time": "2024-12-17T19:39:58.219709Z",
     "start_time": "2024-12-17T19:39:56.841402Z"
    }
   },
   "cell_type": "code",
   "source": [
    "#load data\n",
    "\n",
    "path = '../dataset'\n",
    "energy_interval = 'use'\n",
    "\n",
    "augmented = True\n",
    "\n",
    "if augmented:\n",
    "\tx_train = np.load(f'{path}/x_train_augmented_{energy_interval}.npy')\n",
    "\ty_train = np.load(f'{path}/y_train_augmented_{energy_interval}.npy')\n",
    "else:\n",
    "\tx_train = np.load(f'{path}/x_train_{energy_interval}.npy')\n",
    "\ty_train = np.load(f'{path}/y_train_{energy_interval}.npy')\n",
    "x_test = np.load(f'{path}/x_test_{energy_interval}.npy')\n",
    "y_test = np.load(f'{path}/y_test_{energy_interval}.npy')\n"
   ],
   "id": "644fa1ecf84b5c93",
   "outputs": [],
   "execution_count": 17
  },
  {
   "metadata": {
    "ExecuteTime": {
     "end_time": "2024-12-17T19:40:01.430569Z",
     "start_time": "2024-12-17T19:39:58.242530Z"
    }
   },
   "cell_type": "code",
   "source": [
    "# attach training and testing data and split by 0.75-0.25\n",
    "\n",
    "x = np.concatenate((x_train, x_test))\n",
    "y = np.concatenate((y_train, y_test))\n",
    "\n",
    "from sklearn.model_selection import train_test_split\n",
    "x_train, x_test, y_train, y_test = train_test_split(x, y, test_size=0.25, random_state=42)"
   ],
   "id": "26e441ba9bcb256",
   "outputs": [],
   "execution_count": 18
  },
  {
   "metadata": {
    "ExecuteTime": {
     "end_time": "2024-12-17T19:40:01.456005Z",
     "start_time": "2024-12-17T19:40:01.452765Z"
    }
   },
   "cell_type": "code",
   "source": "x_train.shape, y_train.shape, x_test.shape, y_test.shape",
   "id": "f6ec32f227495f81",
   "outputs": [
    {
     "data": {
      "text/plain": [
       "((146802, 1734), (146802, 8), (48934, 1734), (48934, 8))"
      ]
     },
     "execution_count": 19,
     "metadata": {},
     "output_type": "execute_result"
    }
   ],
   "execution_count": 19
  },
  {
   "metadata": {},
   "cell_type": "markdown",
   "source": "## Hyperparameter Tuning",
   "id": "6683dbc9cd22105b"
  },
  {
   "metadata": {
    "ExecuteTime": {
     "end_time": "2024-12-17T19:40:01.498766Z",
     "start_time": "2024-12-17T19:40:01.496695Z"
    }
   },
   "cell_type": "code",
   "source": [
    "learning_rate = 0.01\n",
    "batch_size = 1024\n",
    "num_epochs = 50"
   ],
   "id": "ca8099b58e8f0ec6",
   "outputs": [],
   "execution_count": 20
  },
  {
   "metadata": {},
   "cell_type": "markdown",
   "source": "## Model Training",
   "id": "5fa04034f9be974b"
  },
  {
   "metadata": {},
   "cell_type": "markdown",
   "source": "### Model Definitions",
   "id": "e62e2ff91e477f91"
  },
  {
   "metadata": {
    "ExecuteTime": {
     "end_time": "2024-12-17T19:40:01.517839Z",
     "start_time": "2024-12-17T19:40:01.512868Z"
    }
   },
   "cell_type": "code",
   "source": [
    "import torch\n",
    "import torch.nn as nn\n",
    "\n",
    "class SimpleNN(nn.Module):\n",
    "    def __init__(self, input_size, num_classes, dropout_rate=0.1):\n",
    "        super(SimpleNN, self).__init__()\n",
    "\n",
    "        self.fc1 = nn.Linear(input_size, int(input_size / 2))\n",
    "        self.bn1 = nn.BatchNorm1d(int(input_size / 2))\n",
    "        self.relu = nn.ReLU()\n",
    "        self.dropout = nn.Dropout(dropout_rate)\n",
    "\n",
    "        self.fc2 = nn.Linear(int(input_size / 2), int(input_size / 2))\n",
    "        self.bn2 = nn.BatchNorm1d(int(input_size / 2))\n",
    "\n",
    "        self.fc3 = nn.Linear(int(input_size / 2), int(input_size / 4))\n",
    "        self.bn3 = nn.BatchNorm1d(int(input_size / 4))\n",
    "\n",
    "        self.fc4 = nn.Linear(int(input_size / 4), 128)\n",
    "        self.bn4 = nn.BatchNorm1d(128)\n",
    "\n",
    "        self.fc5 = nn.Linear(128, 64)\n",
    "        self.bn5 = nn.BatchNorm1d(64)\n",
    "\n",
    "        self.fc6 = nn.Linear(64, 32)\n",
    "        self.fc7 = nn.Linear(32, 16)\n",
    "        self.fc8 = nn.Linear(16, num_classes)\n",
    "\n",
    "    def forward(self, x):\n",
    "        out = self.fc1(x)\n",
    "        out = self.bn1(out)\n",
    "        out = self.relu(out)\n",
    "        out = self.dropout(out)\n",
    "\n",
    "        out = self.fc2(out)\n",
    "        out = self.bn2(out)\n",
    "        out = self.relu(out)\n",
    "        out = self.dropout(out)\n",
    "\n",
    "        out = self.fc3(out)\n",
    "        out = self.bn3(out)\n",
    "        out = self.relu(out)\n",
    "        out = self.dropout(out)\n",
    "\n",
    "        out = self.fc4(out)\n",
    "        out = self.bn4(out)\n",
    "        out = self.relu(out)\n",
    "\n",
    "        out = self.fc5(out)\n",
    "        out = self.bn5(out)\n",
    "        out = self.relu(out)\n",
    "\n",
    "        out = self.fc6(out)\n",
    "        out = self.relu(out)\n",
    "        out = self.fc7(out)\n",
    "        out = self.relu(out)\n",
    "        out = self.fc8(out)\n",
    "\n",
    "        return torch.softmax(out, dim = 1)"
   ],
   "id": "710b2118534148fe",
   "outputs": [],
   "execution_count": 21
  },
  {
   "metadata": {
    "ExecuteTime": {
     "end_time": "2024-12-17T19:40:01.925494Z",
     "start_time": "2024-12-17T19:40:01.525486Z"
    }
   },
   "cell_type": "code",
   "source": [
    "# Make data loaders\n",
    "\n",
    "from torch.utils.data import DataLoader, TensorDataset\n",
    "\n",
    "train_dataset = TensorDataset(torch.Tensor(x_train), torch.Tensor(y_train))\n",
    "test_dataset = TensorDataset(torch.Tensor(x_test), torch.Tensor(y_test))\n",
    "\n",
    "train_loader = DataLoader(train_dataset, batch_size=batch_size, shuffle=True)\n",
    "test_loader = DataLoader(test_dataset, batch_size=32, shuffle=True)\n"
   ],
   "id": "33ebf91612835e06",
   "outputs": [],
   "execution_count": 22
  },
  {
   "metadata": {
    "ExecuteTime": {
     "end_time": "2024-12-17T19:40:01.935569Z",
     "start_time": "2024-12-17T19:40:01.933362Z"
    }
   },
   "cell_type": "code",
   "source": [
    "def weighted_mse_loss(pred, target):\n",
    "    \"\"\"\n",
    "    Custom weighted MSE loss where weights are the indices of the vector.\n",
    "    Args:\n",
    "        pred (Tensor): Predicted vector, shape (batch_size, n).\n",
    "        target (Tensor): Ground truth vector, shape (batch_size, n).\n",
    "    Returns:\n",
    "        loss (Tensor): Weighted average loss.\n",
    "    \"\"\"\n",
    "    # Create weights as the index of each element (1-based)\n",
    "    weights = torch.arange(0, pred.size(1), device=pred.device).float()  # Shape: (n,)\n",
    "\n",
    "    # Compute the element-wise squared error\n",
    "    error = (pred - target) ** 2  # Shape: (batch_size, n)\n",
    "\n",
    "    # Apply weights\n",
    "    weighted_error = weights * error  # Shape: (batch_size, n)\n",
    "\n",
    "    # Average over all elements and samples\n",
    "    loss = weighted_error.mean()\n",
    "    return loss"
   ],
   "id": "fa916571a8289fd6",
   "outputs": [],
   "execution_count": 23
  },
  {
   "metadata": {},
   "cell_type": "markdown",
   "source": "### Training Loop",
   "id": "39d9ce7d416e6380"
  },
  {
   "metadata": {
    "ExecuteTime": {
     "end_time": "2024-12-17T19:40:01.946810Z",
     "start_time": "2024-12-17T19:40:01.942987Z"
    }
   },
   "cell_type": "code",
   "source": [
    "from tqdm import tqdm\n",
    "import torch.optim.lr_scheduler as lr_scheduler\n",
    "\n",
    "def train_model(model, criterion, optimizer, num_epochs, train_loader, test_loader, architecture):\n",
    "    device = torch.device(\"cuda\" if torch.cuda.is_available() else \"cpu\")\n",
    "\n",
    "    # Learning Rate Scheduler (ReduceLR when validation loss plateaus)\n",
    "\n",
    "    for epoch in range(num_epochs):\n",
    "        # Training phase\n",
    "        model.train()\n",
    "        train_loss = 0\n",
    "        train_loader_tqdm = tqdm(train_loader, desc=f\"Epoch {epoch + 1}/{num_epochs} [Training]\")\n",
    "\n",
    "        for images, labels in train_loader_tqdm:\n",
    "            images = images.to(device)\n",
    "            labels = labels.to(device)\n",
    "            if architecture == 'CNN':\n",
    "                images = images.unsqueeze(1)\n",
    "\n",
    "            # Forward pass\n",
    "            outputs = model(images)\n",
    "            loss = weighted_mse_loss(outputs, labels)\n",
    "\n",
    "            # Backward pass and optimization\n",
    "            optimizer.zero_grad()\n",
    "            loss.backward()\n",
    "            optimizer.step()\n",
    "\n",
    "            train_loss += loss.item()\n",
    "            train_loader_tqdm.set_postfix(loss=loss.item())  # Update progress bar with current loss\n",
    "\n",
    "        # Calculate average training loss\n",
    "        train_loss /= len(train_loader)\n",
    "\n",
    "        # Validation phase\n",
    "        model.eval()\n",
    "        val_loss = 0\n",
    "        test_loader_tqdm = tqdm(test_loader, desc=f\"Epoch {epoch + 1}/{num_epochs} [Validation]\")\n",
    "\n",
    "        with torch.no_grad():\n",
    "            for images, labels in test_loader_tqdm:\n",
    "                images = images.to(device)\n",
    "                labels = labels.to(device)\n",
    "                if architecture == 'CNN':\n",
    "                    images = images.unsqueeze(1)\n",
    "\n",
    "                # Forward pass\n",
    "                outputs = model(images)\n",
    "                loss = weighted_mse_loss(outputs, labels)\n",
    "\n",
    "                val_loss += loss.item()\n",
    "                test_loader_tqdm.set_postfix(loss=loss.item())  # Update progress bar with current loss\n",
    "\n",
    "        val_loss /= len(test_loader)  # Average validation loss\n",
    "\n",
    "        # Step the scheduler based on validation loss\n",
    "\n",
    "        # Print epoch summary\n",
    "\n",
    "    return model\n"
   ],
   "id": "d0347e055329cfd4",
   "outputs": [],
   "execution_count": 24
  },
  {
   "metadata": {
    "ExecuteTime": {
     "end_time": "2024-12-17T19:49:47.985354Z",
     "start_time": "2024-12-17T19:40:01.954644Z"
    }
   },
   "cell_type": "code",
   "source": [
    "input_size = x_train.shape[1]\n",
    "num_classes = y_train.shape[1]\n",
    "lr = learning_rate\n",
    "training_size = len(train_loader)\n",
    "testing_size = len(test_loader)\n",
    "# model = CNN1D(num_classes).to(device)\n",
    "model = SimpleNN(input_size, num_classes).to(device)\n",
    "# model = SimpleRNN(num_classes=num_classes).to(device)\n",
    "batch_size = batch_size\n",
    "num_epochs = num_epochs\n",
    "architecture = 'FNN' if isinstance(model, SimpleNN) else 'CNN'\n",
    "# architecture = 'FNN' if isinstance(model, SimpleNN) else 'RNN'\n",
    "\n",
    "criterion = nn.MSELoss()\n",
    "optimizer = torch.optim.Adam(model.parameters(), lr=lr)\n",
    "\n",
    "model = train_model(model, criterion, optimizer, num_epochs, train_loader, test_loader, architecture)\n"
   ],
   "id": "b5ef6730f85b9b68",
   "outputs": [
    {
     "name": "stderr",
     "output_type": "stream",
     "text": [
      "Epoch 1/50 [Training]: 100%|██████████| 144/144 [00:06<00:00, 21.68it/s, loss=0.0446]\n",
      "Epoch 1/50 [Validation]: 100%|██████████| 1530/1530 [00:03<00:00, 413.60it/s, loss=0.0227]\n",
      "Epoch 2/50 [Training]: 100%|██████████| 144/144 [00:10<00:00, 14.30it/s, loss=0.0239]\n",
      "Epoch 2/50 [Validation]: 100%|██████████| 1530/1530 [00:04<00:00, 335.82it/s, loss=0.031]  \n",
      "Epoch 3/50 [Training]: 100%|██████████| 144/144 [00:05<00:00, 25.22it/s, loss=0.0281]\n",
      "Epoch 3/50 [Validation]: 100%|██████████| 1530/1530 [00:03<00:00, 470.25it/s, loss=0.034]  \n",
      "Epoch 4/50 [Training]: 100%|██████████| 144/144 [00:05<00:00, 24.42it/s, loss=0.0222]\n",
      "Epoch 4/50 [Validation]: 100%|██████████| 1530/1530 [00:04<00:00, 350.48it/s, loss=0.00713]\n",
      "Epoch 5/50 [Training]: 100%|██████████| 144/144 [00:06<00:00, 23.76it/s, loss=0.0253]\n",
      "Epoch 5/50 [Validation]: 100%|██████████| 1530/1530 [00:03<00:00, 422.07it/s, loss=0.136]  \n",
      "Epoch 6/50 [Training]: 100%|██████████| 144/144 [00:06<00:00, 22.88it/s, loss=0.0254]\n",
      "Epoch 6/50 [Validation]: 100%|██████████| 1530/1530 [00:04<00:00, 363.52it/s, loss=0.0136] \n",
      "Epoch 7/50 [Training]: 100%|██████████| 144/144 [00:10<00:00, 13.82it/s, loss=0.0194]\n",
      "Epoch 7/50 [Validation]: 100%|██████████| 1530/1530 [00:04<00:00, 372.53it/s, loss=0.116]  \n",
      "Epoch 8/50 [Training]: 100%|██████████| 144/144 [00:06<00:00, 21.18it/s, loss=0.0215]\n",
      "Epoch 8/50 [Validation]: 100%|██████████| 1530/1530 [00:03<00:00, 471.45it/s, loss=0.00424]\n",
      "Epoch 9/50 [Training]: 100%|██████████| 144/144 [00:13<00:00, 10.66it/s, loss=0.0243]\n",
      "Epoch 9/50 [Validation]: 100%|██████████| 1530/1530 [00:03<00:00, 403.67it/s, loss=0.00534]\n",
      "Epoch 10/50 [Training]: 100%|██████████| 144/144 [00:06<00:00, 22.91it/s, loss=0.0179]\n",
      "Epoch 10/50 [Validation]: 100%|██████████| 1530/1530 [00:04<00:00, 367.79it/s, loss=0.053] \n",
      "Epoch 11/50 [Training]: 100%|██████████| 144/144 [00:06<00:00, 22.72it/s, loss=0.0218]\n",
      "Epoch 11/50 [Validation]: 100%|██████████| 1530/1530 [00:04<00:00, 362.15it/s, loss=0.00332]\n",
      "Epoch 12/50 [Training]: 100%|██████████| 144/144 [00:06<00:00, 23.99it/s, loss=0.0155]\n",
      "Epoch 12/50 [Validation]: 100%|██████████| 1530/1530 [00:03<00:00, 421.24it/s, loss=0.0215] \n",
      "Epoch 13/50 [Training]: 100%|██████████| 144/144 [00:05<00:00, 24.07it/s, loss=0.0147]\n",
      "Epoch 13/50 [Validation]: 100%|██████████| 1530/1530 [00:04<00:00, 377.99it/s, loss=0.00978]\n",
      "Epoch 14/50 [Training]: 100%|██████████| 144/144 [00:05<00:00, 24.18it/s, loss=0.0266]\n",
      "Epoch 14/50 [Validation]: 100%|██████████| 1530/1530 [00:03<00:00, 398.02it/s, loss=0.0109] \n",
      "Epoch 15/50 [Training]: 100%|██████████| 144/144 [00:05<00:00, 24.36it/s, loss=0.0225]\n",
      "Epoch 15/50 [Validation]: 100%|██████████| 1530/1530 [00:04<00:00, 337.82it/s, loss=0.0482] \n",
      "Epoch 16/50 [Training]: 100%|██████████| 144/144 [00:06<00:00, 23.96it/s, loss=0.0192]\n",
      "Epoch 16/50 [Validation]: 100%|██████████| 1530/1530 [00:03<00:00, 400.84it/s, loss=0.00231]\n",
      "Epoch 17/50 [Training]: 100%|██████████| 144/144 [00:06<00:00, 23.79it/s, loss=0.0172]\n",
      "Epoch 17/50 [Validation]: 100%|██████████| 1530/1530 [00:03<00:00, 459.62it/s, loss=0.0188] \n",
      "Epoch 18/50 [Training]: 100%|██████████| 144/144 [00:06<00:00, 23.53it/s, loss=0.0138]\n",
      "Epoch 18/50 [Validation]: 100%|██████████| 1530/1530 [00:03<00:00, 421.47it/s, loss=0.0071] \n",
      "Epoch 19/50 [Training]: 100%|██████████| 144/144 [00:07<00:00, 19.94it/s, loss=0.0214]\n",
      "Epoch 19/50 [Validation]: 100%|██████████| 1530/1530 [00:04<00:00, 343.05it/s, loss=0.000954]\n",
      "Epoch 20/50 [Training]: 100%|██████████| 144/144 [00:10<00:00, 13.32it/s, loss=0.0165]\n",
      "Epoch 20/50 [Validation]: 100%|██████████| 1530/1530 [00:05<00:00, 284.94it/s, loss=0.0177] \n",
      "Epoch 21/50 [Training]: 100%|██████████| 144/144 [00:09<00:00, 14.86it/s, loss=0.0123]\n",
      "Epoch 21/50 [Validation]: 100%|██████████| 1530/1530 [00:06<00:00, 244.94it/s, loss=0.0268] \n",
      "Epoch 22/50 [Training]: 100%|██████████| 144/144 [00:06<00:00, 23.61it/s, loss=0.0154]\n",
      "Epoch 22/50 [Validation]: 100%|██████████| 1530/1530 [00:03<00:00, 428.71it/s, loss=0.0016] \n",
      "Epoch 23/50 [Training]: 100%|██████████| 144/144 [00:09<00:00, 14.54it/s, loss=0.0138]\n",
      "Epoch 23/50 [Validation]: 100%|██████████| 1530/1530 [00:05<00:00, 291.85it/s, loss=0.0057] \n",
      "Epoch 24/50 [Training]: 100%|██████████| 144/144 [00:08<00:00, 17.74it/s, loss=0.0122]\n",
      "Epoch 24/50 [Validation]: 100%|██████████| 1530/1530 [00:04<00:00, 308.81it/s, loss=0.0154] \n",
      "Epoch 25/50 [Training]: 100%|██████████| 144/144 [00:07<00:00, 18.44it/s, loss=0.019]  \n",
      "Epoch 25/50 [Validation]: 100%|██████████| 1530/1530 [00:04<00:00, 366.56it/s, loss=0.00564]\n",
      "Epoch 26/50 [Training]: 100%|██████████| 144/144 [00:07<00:00, 20.49it/s, loss=0.0133] \n",
      "Epoch 26/50 [Validation]: 100%|██████████| 1530/1530 [00:04<00:00, 374.41it/s, loss=0.00539]\n",
      "Epoch 27/50 [Training]: 100%|██████████| 144/144 [00:06<00:00, 23.28it/s, loss=0.0116] \n",
      "Epoch 27/50 [Validation]: 100%|██████████| 1530/1530 [00:03<00:00, 428.18it/s, loss=0.0058] \n",
      "Epoch 28/50 [Training]: 100%|██████████| 144/144 [00:05<00:00, 24.65it/s, loss=0.0134]\n",
      "Epoch 28/50 [Validation]: 100%|██████████| 1530/1530 [00:02<00:00, 515.28it/s, loss=0.012]  \n",
      "Epoch 29/50 [Training]: 100%|██████████| 144/144 [00:05<00:00, 26.16it/s, loss=0.016]  \n",
      "Epoch 29/50 [Validation]: 100%|██████████| 1530/1530 [00:03<00:00, 437.52it/s, loss=0.0142] \n",
      "Epoch 30/50 [Training]: 100%|██████████| 144/144 [00:06<00:00, 22.79it/s, loss=0.0106]\n",
      "Epoch 30/50 [Validation]: 100%|██████████| 1530/1530 [00:04<00:00, 358.55it/s, loss=0.00418]\n",
      "Epoch 31/50 [Training]: 100%|██████████| 144/144 [00:07<00:00, 20.26it/s, loss=0.013]  \n",
      "Epoch 31/50 [Validation]: 100%|██████████| 1530/1530 [00:03<00:00, 469.39it/s, loss=0.038]  \n",
      "Epoch 32/50 [Training]: 100%|██████████| 144/144 [00:06<00:00, 22.82it/s, loss=0.00941]\n",
      "Epoch 32/50 [Validation]: 100%|██████████| 1530/1530 [00:04<00:00, 345.26it/s, loss=0.0147] \n",
      "Epoch 33/50 [Training]: 100%|██████████| 144/144 [00:07<00:00, 19.76it/s, loss=0.0139] \n",
      "Epoch 33/50 [Validation]: 100%|██████████| 1530/1530 [00:04<00:00, 307.31it/s, loss=0.0861] \n",
      "Epoch 34/50 [Training]: 100%|██████████| 144/144 [00:07<00:00, 19.63it/s, loss=0.0107] \n",
      "Epoch 34/50 [Validation]: 100%|██████████| 1530/1530 [00:03<00:00, 413.28it/s, loss=0.000868]\n",
      "Epoch 35/50 [Training]: 100%|██████████| 144/144 [00:06<00:00, 20.93it/s, loss=0.0152] \n",
      "Epoch 35/50 [Validation]: 100%|██████████| 1530/1530 [00:03<00:00, 404.85it/s, loss=0.0256] \n",
      "Epoch 36/50 [Training]: 100%|██████████| 144/144 [00:07<00:00, 19.80it/s, loss=0.014]  \n",
      "Epoch 36/50 [Validation]: 100%|██████████| 1530/1530 [00:04<00:00, 342.34it/s, loss=0.00484]\n",
      "Epoch 37/50 [Training]: 100%|██████████| 144/144 [00:10<00:00, 14.35it/s, loss=0.0124] \n",
      "Epoch 37/50 [Validation]: 100%|██████████| 1530/1530 [00:04<00:00, 309.30it/s, loss=0.00671]\n",
      "Epoch 38/50 [Training]: 100%|██████████| 144/144 [00:09<00:00, 15.79it/s, loss=0.0124] \n",
      "Epoch 38/50 [Validation]: 100%|██████████| 1530/1530 [00:05<00:00, 292.24it/s, loss=0.00221]\n",
      "Epoch 39/50 [Training]: 100%|██████████| 144/144 [00:08<00:00, 17.98it/s, loss=0.00957]\n",
      "Epoch 39/50 [Validation]: 100%|██████████| 1530/1530 [00:04<00:00, 371.10it/s, loss=0.00384]\n",
      "Epoch 40/50 [Training]: 100%|██████████| 144/144 [00:07<00:00, 20.43it/s, loss=0.0165] \n",
      "Epoch 40/50 [Validation]: 100%|██████████| 1530/1530 [00:03<00:00, 394.02it/s, loss=0.00763]\n",
      "Epoch 41/50 [Training]: 100%|██████████| 144/144 [00:06<00:00, 21.28it/s, loss=0.0162] \n",
      "Epoch 41/50 [Validation]: 100%|██████████| 1530/1530 [00:04<00:00, 340.08it/s, loss=0.0129] \n",
      "Epoch 42/50 [Training]: 100%|██████████| 144/144 [00:07<00:00, 18.74it/s, loss=0.0177] \n",
      "Epoch 42/50 [Validation]: 100%|██████████| 1530/1530 [00:04<00:00, 333.66it/s, loss=0.0202] \n",
      "Epoch 43/50 [Training]: 100%|██████████| 144/144 [00:07<00:00, 18.12it/s, loss=0.00965]\n",
      "Epoch 43/50 [Validation]: 100%|██████████| 1530/1530 [00:05<00:00, 296.77it/s, loss=0.00557]\n",
      "Epoch 44/50 [Training]: 100%|██████████| 144/144 [00:08<00:00, 16.35it/s, loss=0.0124] \n",
      "Epoch 44/50 [Validation]: 100%|██████████| 1530/1530 [00:04<00:00, 321.27it/s, loss=0.00704]\n",
      "Epoch 45/50 [Training]: 100%|██████████| 144/144 [00:07<00:00, 19.26it/s, loss=0.0159] \n",
      "Epoch 45/50 [Validation]: 100%|██████████| 1530/1530 [00:04<00:00, 350.28it/s, loss=0.0268] \n",
      "Epoch 46/50 [Training]: 100%|██████████| 144/144 [00:06<00:00, 21.24it/s, loss=0.014]  \n",
      "Epoch 46/50 [Validation]: 100%|██████████| 1530/1530 [00:03<00:00, 402.89it/s, loss=0.00374]\n",
      "Epoch 47/50 [Training]: 100%|██████████| 144/144 [00:06<00:00, 21.29it/s, loss=0.0107] \n",
      "Epoch 47/50 [Validation]: 100%|██████████| 1530/1530 [00:04<00:00, 312.02it/s, loss=0.106]  \n",
      "Epoch 48/50 [Training]: 100%|██████████| 144/144 [00:08<00:00, 17.91it/s, loss=0.0101] \n",
      "Epoch 48/50 [Validation]: 100%|██████████| 1530/1530 [00:05<00:00, 273.37it/s, loss=0.00678]\n",
      "Epoch 49/50 [Training]: 100%|██████████| 144/144 [00:09<00:00, 15.50it/s, loss=0.00973]\n",
      "Epoch 49/50 [Validation]: 100%|██████████| 1530/1530 [00:06<00:00, 248.88it/s, loss=0.00236]\n",
      "Epoch 50/50 [Training]: 100%|██████████| 144/144 [00:09<00:00, 15.89it/s, loss=0.0097] \n",
      "Epoch 50/50 [Validation]: 100%|██████████| 1530/1530 [00:05<00:00, 296.54it/s, loss=0.00538]\n"
     ]
    }
   ],
   "execution_count": 25
  },
  {
   "metadata": {},
   "cell_type": "markdown",
   "source": "## Performance Analysis",
   "id": "c5ed61ff6f5bc097"
  },
  {
   "metadata": {
    "ExecuteTime": {
     "end_time": "2024-12-17T19:50:33.501374Z",
     "start_time": "2024-12-17T19:50:32.209132Z"
    }
   },
   "cell_type": "code",
   "source": [
    "#predict average oxidation state\n",
    "\n",
    "def predict_avg_oxi_state(model, x):\n",
    "\n",
    "\tx = torch.Tensor(x).to(device)\n",
    "\toutput = model(x).detach()\n",
    "\treturn output.numpy()\n",
    "\n",
    "output = predict_avg_oxi_state(model, x_test)\n"
   ],
   "id": "c09e2a58e672dec8",
   "outputs": [],
   "execution_count": 26
  },
  {
   "metadata": {
    "ExecuteTime": {
     "end_time": "2024-12-17T19:50:33.709732Z",
     "start_time": "2024-12-17T19:50:33.649853Z"
    }
   },
   "cell_type": "code",
   "source": [
    "# print(output.numpy(), y_test)\n",
    "oxi_states = np.array(list(range(0,8)))\n",
    "avg_oxi_state = np.dot(y_test, oxi_states)\n",
    "avg_oxi_state_predicted = np.dot(output, oxi_states)"
   ],
   "id": "542ddfa2fa9121c8",
   "outputs": [],
   "execution_count": 27
  },
  {
   "metadata": {
    "ExecuteTime": {
     "end_time": "2024-12-17T19:50:33.883319Z",
     "start_time": "2024-12-17T19:50:33.744155Z"
    }
   },
   "cell_type": "code",
   "source": [
    "from sklearn.metrics import confusion_matrix, r2_score, mean_squared_error\n",
    "import matplotlib.pyplot as plt\n",
    "# confusion_matrix(avg_oxi_state, avg_oxi_state_predicted)\n",
    "plt.plot(avg_oxi_state, avg_oxi_state_predicted, 'o')\n",
    "# plt.plot(y_test_avg, output, 'o')\n",
    "plt.show()\n",
    "\n",
    "print(\"R2_score: \", round(r2_score(avg_oxi_state, avg_oxi_state_predicted),2))\n",
    "print(\"MSE: \", round(mean_squared_error(avg_oxi_state, avg_oxi_state_predicted),2))\n",
    "# print(r2_score(y_test_avg, output))"
   ],
   "id": "87ad7292e8e240f3",
   "outputs": [
    {
     "data": {
      "text/plain": [
       "<Figure size 640x480 with 1 Axes>"
      ],
      "image/png": "[encoded data removed]"
     },
     "metadata": {},
     "output_type": "display_data"
    },
    {
     "name": "stdout",
     "output_type": "stream",
     "text": [
      "R2_score:  0.97\n",
      "MSE:  0.03\n"
     ]
    }
   ],
   "execution_count": 28
  },
  {
   "metadata": {
    "ExecuteTime": {
     "end_time": "2024-12-17T19:50:59.002401Z",
     "start_time": "2024-12-17T19:50:58.997357Z"
    }
   },
   "cell_type": "code",
   "source": [
    "np.save(f'y_test_used.npy', y_test)\n",
    "np.save(f'output_fnn.npy', output)"
   ],
   "id": "bb9918f65bc6fc67",
   "outputs": [],
   "execution_count": 31
  },
  {
   "metadata": {
    "ExecuteTime": {
     "end_time": "2024-12-17T19:50:33.943161Z",
     "start_time": "2024-12-17T19:50:33.940043Z"
    }
   },
   "cell_type": "code",
   "source": "",
   "id": "7db574e25d599b13",
   "outputs": [],
   "execution_count": null
  }
 ],
 "metadata": {
  "kernelspec": {
   "display_name": "Python 3",
   "language": "python",
   "name": "python3"
  },
  "language_info": {
   "codemirror_mode": {
    "name": "ipython",
    "version": 2
   },
   "file_extension": ".py",
   "mimetype": "text/x-python",
   "name": "python",
   "nbconvert_exporter": "python",
   "pygments_lexer": "ipython2",
   "version": "2.7.6"
  }
 },
 "nbformat": 4,
 "nbformat_minor": 5
}
