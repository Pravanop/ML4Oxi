{
 "cells": [
  {
   "metadata": {
    "ExecuteTime": {
     "end_time": "2024-12-17T18:56:26.916539Z",
     "start_time": "2024-12-17T18:56:26.895137Z"
    }
   },
   "cell_type": "code",
   "source": [
    "from torch import nn\n",
    "from torch.ao.nn.quantized import Dropout\n",
    "import torch.nn.functional as F\n",
    "import wandb\n",
    "import torch\n",
    "\n",
    "import numpy as np\n",
    "device = torch.device('cuda' if torch.cuda.is_available() else 'cpu')"
   ],
   "id": "b1172c183c0c5986",
   "outputs": [],
   "execution_count": 672
  },
  {
   "metadata": {},
   "cell_type": "markdown",
   "source": "## Data Normalization",
   "id": "6c2105dcae8436ce"
  },
  {
   "metadata": {
    "ExecuteTime": {
     "end_time": "2024-12-17T18:56:27.266964Z",
     "start_time": "2024-12-17T18:56:26.921158Z"
    }
   },
   "cell_type": "code",
   "source": [
    "#load data\n",
    "\n",
    "path = '../dataset'\n",
    "energy_interval = 'use'\n",
    "\n",
    "augmented = False\n",
    "\n",
    "if augmented:\n",
    "\tx_train = np.load(f'{path}/x_train_augmented_{energy_interval}.npy')\n",
    "\ty_train = np.load(f'{path}/y_train_augmented_{energy_interval}.npy')\n",
    "else:\n",
    "\tx_train = np.load(f'{path}/x_train_{energy_interval}.npy')\n",
    "\ty_train = np.load(f'{path}/y_train_{energy_interval}.npy')\n",
    "x_test = np.load(f'{path}/x_test_{energy_interval}.npy')\n",
    "y_test = np.load(f'{path}/y_test_{energy_interval}.npy')\n"
   ],
   "id": "644fa1ecf84b5c93",
   "outputs": [],
   "execution_count": 673
  },
  {
   "metadata": {
    "ExecuteTime": {
     "end_time": "2024-12-17T18:56:28.159210Z",
     "start_time": "2024-12-17T18:56:28.154212Z"
    }
   },
   "cell_type": "code",
   "source": "x_train.shape, y_train.shape, x_test.shape, y_test.shape",
   "id": "f6ec32f227495f81",
   "outputs": [
    {
     "data": {
      "text/plain": [
       "((70222, 1734), (70222, 8), (5626, 1734), (5626, 8))"
      ]
     },
     "execution_count": 678,
     "metadata": {},
     "output_type": "execute_result"
    }
   ],
   "execution_count": 678
  },
  {
   "metadata": {
    "ExecuteTime": {
     "end_time": "2024-12-17T18:56:28.185229Z",
     "start_time": "2024-12-17T18:56:28.173528Z"
    }
   },
   "cell_type": "code",
   "source": [
    "y_train_avg = np.dot(y_train, np.arange(8))\n",
    "y_test_avg = np.dot(y_test, np.arange(8))"
   ],
   "id": "5b76116bb1b88ee3",
   "outputs": [],
   "execution_count": 679
  },
  {
   "metadata": {
    "ExecuteTime": {
     "end_time": "2024-12-17T18:56:28.247565Z",
     "start_time": "2024-12-17T18:56:28.239421Z"
    }
   },
   "cell_type": "code",
   "source": [
    "y_train_avg = y_train_avg.reshape(-1, 1)\n",
    "y_test_avg = y_test_avg.reshape(-1, 1)"
   ],
   "id": "24ab01c2590ea5fe",
   "outputs": [],
   "execution_count": 680
  },
  {
   "metadata": {
    "ExecuteTime": {
     "end_time": "2024-12-17T18:56:28.388131Z",
     "start_time": "2024-12-17T18:56:28.290172Z"
    }
   },
   "cell_type": "code",
   "source": [
    "#histogram of average oxidation states\n",
    "import matplotlib.pyplot as plt\n",
    "plt.hist(y_train_avg, bins=8)\n",
    "plt.hist(y_test_avg, bins=8)\n",
    "plt.show()"
   ],
   "id": "9071197758676e88",
   "outputs": [
    {
     "data": {
      "text/plain": [
       "<Figure size 640x480 with 1 Axes>"
      ],
      "image/png": "[encoded data removed]"
     },
     "metadata": {},
     "output_type": "display_data"
    }
   ],
   "execution_count": 681
  },
  {
   "metadata": {
    "ExecuteTime": {
     "end_time": "2024-12-17T18:56:28.890393Z",
     "start_time": "2024-12-17T18:56:28.402896Z"
    }
   },
   "cell_type": "code",
   "source": [
    "np.save(f'y_test_avg.npy', y_test_avg)\n",
    "np.save(f'y_train_avg.npy', y_train_avg)\n",
    "np.save(f'x_train.npy', x_train)\n",
    "np.save(f'x_test.npy', x_test)"
   ],
   "id": "a48fdcda7a8d0398",
   "outputs": [],
   "execution_count": 682
  },
  {
   "metadata": {},
   "cell_type": "markdown",
   "source": "## Hyperparameter Tuning",
   "id": "6683dbc9cd22105b"
  },
  {
   "metadata": {
    "ExecuteTime": {
     "end_time": "2024-12-17T18:56:28.907739Z",
     "start_time": "2024-12-17T18:56:28.903321Z"
    }
   },
   "cell_type": "code",
   "source": [
    "learning_rate = 0.01\n",
    "batch_size = 256\n",
    "num_epochs = 75"
   ],
   "id": "ca8099b58e8f0ec6",
   "outputs": [],
   "execution_count": 683
  },
  {
   "metadata": {},
   "cell_type": "markdown",
   "source": "## Model Training",
   "id": "5fa04034f9be974b"
  },
  {
   "metadata": {},
   "cell_type": "markdown",
   "source": "### Model Definitions",
   "id": "e62e2ff91e477f91"
  },
  {
   "metadata": {
    "ExecuteTime": {
     "end_time": "2024-12-17T18:56:28.939199Z",
     "start_time": "2024-12-17T18:56:28.931483Z"
    }
   },
   "cell_type": "code",
   "source": [
    "import torch\n",
    "import torch.nn as nn\n",
    "\n",
    "class SimpleNN(nn.Module):\n",
    "    def __init__(self, input_size, num_classes, dropout_rate=0.1):\n",
    "        super(SimpleNN, self).__init__()\n",
    "\n",
    "        self.fc1 = nn.Linear(input_size, int(input_size / 2))\n",
    "        self.bn1 = nn.BatchNorm1d(int(input_size / 2))\n",
    "        self.relu = nn.ReLU()\n",
    "        self.dropout = nn.Dropout(dropout_rate)\n",
    "\n",
    "        self.fc2 = nn.Linear(int(input_size / 2), int(input_size / 2))\n",
    "        self.bn2 = nn.BatchNorm1d(int(input_size / 2))\n",
    "\n",
    "        self.fc3 = nn.Linear(int(input_size / 2), int(input_size / 4))\n",
    "        self.bn3 = nn.BatchNorm1d(int(input_size / 4))\n",
    "\n",
    "        self.fc4 = nn.Linear(int(input_size / 4), 128)\n",
    "        self.bn4 = nn.BatchNorm1d(128)\n",
    "\n",
    "        self.fc5 = nn.Linear(128, 64)\n",
    "        self.bn5 = nn.BatchNorm1d(64)\n",
    "\n",
    "        self.fc6 = nn.Linear(64, 32)\n",
    "        self.fc7 = nn.Linear(32, 16)\n",
    "        self.fc8 = nn.Linear(16, num_classes)\n",
    "\n",
    "    def forward(self, x):\n",
    "        out = self.fc1(x)\n",
    "        out = self.bn1(out)\n",
    "        out = self.relu(out)\n",
    "        out = self.dropout(out)\n",
    "\n",
    "        out = self.fc2(out)\n",
    "        out = self.bn2(out)\n",
    "        out = self.relu(out)\n",
    "        out = self.dropout(out)\n",
    "\n",
    "        out = self.fc3(out)\n",
    "        out = self.bn3(out)\n",
    "        out = self.relu(out)\n",
    "        out = self.dropout(out)\n",
    "\n",
    "        out = self.fc4(out)\n",
    "        out = self.bn4(out)\n",
    "        out = self.relu(out)\n",
    "\n",
    "        out = self.fc5(out)\n",
    "        out = self.bn5(out)\n",
    "        out = self.relu(out)\n",
    "\n",
    "        out = self.fc6(out)\n",
    "        out = self.relu(out)\n",
    "        out = self.fc7(out)\n",
    "        out = self.relu(out)\n",
    "        out = self.fc8(out)\n",
    "\n",
    "        return torch.softmax(out, dim = 1)"
   ],
   "id": "710b2118534148fe",
   "outputs": [],
   "execution_count": 684
  },
  {
   "metadata": {
    "ExecuteTime": {
     "end_time": "2024-12-17T18:56:29.110367Z",
     "start_time": "2024-12-17T18:56:28.941867Z"
    }
   },
   "cell_type": "code",
   "source": [
    "# Make data loaders\n",
    "\n",
    "from torch.utils.data import DataLoader, TensorDataset\n",
    "\n",
    "train_dataset = TensorDataset(torch.Tensor(x_train), torch.Tensor(y_train))\n",
    "test_dataset = TensorDataset(torch.Tensor(x_test), torch.Tensor(y_test))\n",
    "\n",
    "train_loader = DataLoader(train_dataset, batch_size=batch_size, shuffle=True)\n",
    "test_loader = DataLoader(test_dataset, batch_size=32, shuffle=True)\n"
   ],
   "id": "33ebf91612835e06",
   "outputs": [],
   "execution_count": 685
  },
  {
   "metadata": {
    "ExecuteTime": {
     "end_time": "2024-12-17T18:56:29.130119Z",
     "start_time": "2024-12-17T18:56:29.125416Z"
    }
   },
   "cell_type": "code",
   "source": [
    "def weighted_mse_loss(pred, target):\n",
    "    \"\"\"\n",
    "    Custom weighted MSE loss where weights are the indices of the vector.\n",
    "    Args:\n",
    "        pred (Tensor): Predicted vector, shape (batch_size, n).\n",
    "        target (Tensor): Ground truth vector, shape (batch_size, n).\n",
    "    Returns:\n",
    "        loss (Tensor): Weighted average loss.\n",
    "    \"\"\"\n",
    "    # Create weights as the index of each element (1-based)\n",
    "    weights = torch.arange(0, pred.size(1), device=pred.device).float()  # Shape: (n,)\n",
    "\n",
    "    # Compute the element-wise squared error\n",
    "    error = (pred - target) ** 2  # Shape: (batch_size, n)\n",
    "\n",
    "    # Apply weights\n",
    "    weighted_error = weights * error  # Shape: (batch_size, n)\n",
    "\n",
    "    # Average over all elements and samples\n",
    "    loss = weighted_error.mean()\n",
    "    return loss"
   ],
   "id": "fa916571a8289fd6",
   "outputs": [],
   "execution_count": 686
  },
  {
   "metadata": {},
   "cell_type": "markdown",
   "source": "### Training Loop",
   "id": "39d9ce7d416e6380"
  },
  {
   "metadata": {
    "ExecuteTime": {
     "end_time": "2024-12-17T18:56:29.149823Z",
     "start_time": "2024-12-17T18:56:29.143721Z"
    }
   },
   "cell_type": "code",
   "source": [
    "from tqdm import tqdm\n",
    "import torch.optim.lr_scheduler as lr_scheduler\n",
    "\n",
    "def train_model(model, criterion, optimizer, num_epochs, train_loader, test_loader, architecture):\n",
    "    device = torch.device(\"cuda\" if torch.cuda.is_available() else \"cpu\")\n",
    "\n",
    "    # Learning Rate Scheduler (ReduceLR when validation loss plateaus)\n",
    "\n",
    "    for epoch in range(num_epochs):\n",
    "        # Training phase\n",
    "        model.train()\n",
    "        train_loss = 0\n",
    "        train_loader_tqdm = tqdm(train_loader, desc=f\"Epoch {epoch + 1}/{num_epochs} [Training]\")\n",
    "\n",
    "        for images, labels in train_loader_tqdm:\n",
    "            images = images.to(device)\n",
    "            labels = labels.to(device)\n",
    "            if architecture == 'CNN':\n",
    "                images = images.unsqueeze(1)\n",
    "\n",
    "            # Forward pass\n",
    "            outputs = model(images)\n",
    "            loss = weighted_mse_loss(outputs, labels)\n",
    "\n",
    "            # Backward pass and optimization\n",
    "            optimizer.zero_grad()\n",
    "            loss.backward()\n",
    "            optimizer.step()\n",
    "\n",
    "            train_loss += loss.item()\n",
    "            train_loader_tqdm.set_postfix(loss=loss.item())  # Update progress bar with current loss\n",
    "\n",
    "        # Calculate average training loss\n",
    "        train_loss /= len(train_loader)\n",
    "\n",
    "        # Validation phase\n",
    "        model.eval()\n",
    "        val_loss = 0\n",
    "        test_loader_tqdm = tqdm(test_loader, desc=f\"Epoch {epoch + 1}/{num_epochs} [Validation]\")\n",
    "\n",
    "        with torch.no_grad():\n",
    "            for images, labels in test_loader_tqdm:\n",
    "                images = images.to(device)\n",
    "                labels = labels.to(device)\n",
    "                if architecture == 'CNN':\n",
    "                    images = images.unsqueeze(1)\n",
    "\n",
    "                # Forward pass\n",
    "                outputs = model(images)\n",
    "                loss = weighted_mse_loss(outputs, labels)\n",
    "\n",
    "                val_loss += loss.item()\n",
    "                test_loader_tqdm.set_postfix(loss=loss.item())  # Update progress bar with current loss\n",
    "\n",
    "        val_loss /= len(test_loader)  # Average validation loss\n",
    "\n",
    "        # Step the scheduler based on validation loss\n",
    "\n",
    "        # Print epoch summary\n",
    "\n",
    "    return model\n"
   ],
   "id": "d0347e055329cfd4",
   "outputs": [],
   "execution_count": 687
  },
  {
   "metadata": {
    "jupyter": {
     "is_executing": true
    },
    "ExecuteTime": {
     "start_time": "2024-12-17T18:56:29.162999Z"
    }
   },
   "cell_type": "code",
   "source": [
    "input_size = x_train.shape[1]\n",
    "num_classes = y_train.shape[1]\n",
    "lr = learning_rate\n",
    "training_size = len(train_loader)\n",
    "testing_size = len(test_loader)\n",
    "# model = CNN1D(num_classes).to(device)\n",
    "model = SimpleNN(input_size, num_classes).to(device)\n",
    "# model = SimpleRNN(num_classes=num_classes).to(device)\n",
    "batch_size = batch_size\n",
    "num_epochs = num_epochs\n",
    "architecture = 'FNN' if isinstance(model, SimpleNN) else 'CNN'\n",
    "# architecture = 'FNN' if isinstance(model, SimpleNN) else 'RNN'\n",
    "\n",
    "criterion = nn.MSELoss()\n",
    "optimizer = torch.optim.Adam(model.parameters(), lr=lr)\n",
    "\n",
    "model = train_model(model, criterion, optimizer, num_epochs, train_loader, test_loader, architecture)\n"
   ],
   "id": "b5ef6730f85b9b68",
   "outputs": [
    {
     "name": "stderr",
     "output_type": "stream",
     "text": [
      "Epoch 1/75 [Training]: 100%|██████████| 275/275 [00:04<00:00, 56.40it/s, loss=0.0321]\n",
      "Epoch 1/75 [Validation]: 100%|██████████| 176/176 [00:00<00:00, 354.87it/s, loss=0.0337]\n",
      "Epoch 2/75 [Training]: 100%|██████████| 275/275 [00:05<00:00, 52.58it/s, loss=0.029] \n",
      "Epoch 2/75 [Validation]: 100%|██████████| 176/176 [00:00<00:00, 330.26it/s, loss=0.0696]\n",
      "Epoch 3/75 [Training]: 100%|██████████| 275/275 [00:05<00:00, 54.20it/s, loss=0.0186]\n",
      "Epoch 3/75 [Validation]: 100%|██████████| 176/176 [00:00<00:00, 323.87it/s, loss=0.0376]\n",
      "Epoch 4/75 [Training]: 100%|██████████| 275/275 [00:05<00:00, 50.77it/s, loss=0.0188] \n",
      "Epoch 4/75 [Validation]: 100%|██████████| 176/176 [00:00<00:00, 335.32it/s, loss=0.0967]\n",
      "Epoch 5/75 [Training]: 100%|██████████| 275/275 [00:05<00:00, 53.52it/s, loss=0.0268] \n",
      "Epoch 5/75 [Validation]: 100%|██████████| 176/176 [00:00<00:00, 354.65it/s, loss=0.0917]\n",
      "Epoch 6/75 [Training]: 100%|██████████| 275/275 [00:05<00:00, 51.04it/s, loss=0.00921]\n",
      "Epoch 6/75 [Validation]: 100%|██████████| 176/176 [00:00<00:00, 340.77it/s, loss=0.0662]\n",
      "Epoch 7/75 [Training]: 100%|██████████| 275/275 [00:05<00:00, 49.98it/s, loss=0.0153] \n",
      "Epoch 7/75 [Validation]: 100%|██████████| 176/176 [00:00<00:00, 339.59it/s, loss=0.00948]\n",
      "Epoch 8/75 [Training]: 100%|██████████| 275/275 [00:04<00:00, 58.05it/s, loss=0.0147] \n",
      "Epoch 8/75 [Validation]: 100%|██████████| 176/176 [00:00<00:00, 368.92it/s, loss=0.0646]\n",
      "Epoch 9/75 [Training]: 100%|██████████| 275/275 [00:05<00:00, 54.24it/s, loss=0.0124] \n",
      "Epoch 9/75 [Validation]: 100%|██████████| 176/176 [00:00<00:00, 350.44it/s, loss=0.0326]\n",
      "Epoch 10/75 [Training]: 100%|██████████| 275/275 [00:05<00:00, 50.72it/s, loss=0.0162] \n",
      "Epoch 10/75 [Validation]: 100%|██████████| 176/176 [00:00<00:00, 358.71it/s, loss=0.0462]\n",
      "Epoch 11/75 [Training]: 100%|██████████| 275/275 [00:04<00:00, 56.54it/s, loss=0.00961]\n",
      "Epoch 11/75 [Validation]: 100%|██████████| 176/176 [00:00<00:00, 406.15it/s, loss=0.041] \n",
      "Epoch 12/75 [Training]: 100%|██████████| 275/275 [00:04<00:00, 57.31it/s, loss=0.0122] \n",
      "Epoch 12/75 [Validation]: 100%|██████████| 176/176 [00:00<00:00, 342.41it/s, loss=0.042] \n",
      "Epoch 13/75 [Training]: 100%|██████████| 275/275 [00:05<00:00, 54.86it/s, loss=0.0121] \n",
      "Epoch 13/75 [Validation]: 100%|██████████| 176/176 [00:00<00:00, 349.41it/s, loss=0.0186]\n",
      "Epoch 14/75 [Training]:  96%|█████████▌| 263/275 [00:04<00:00, 51.55it/s, loss=0.00693]"
     ]
    }
   ],
   "execution_count": null
  },
  {
   "metadata": {},
   "cell_type": "markdown",
   "source": "## Performance Analysis",
   "id": "c5ed61ff6f5bc097"
  },
  {
   "metadata": {},
   "cell_type": "code",
   "outputs": [],
   "execution_count": null,
   "source": [
    "#predict average oxidation state\n",
    "\n",
    "def predict_avg_oxi_state(model, x):\n",
    "\n",
    "\tx = torch.Tensor(x).to(device)\n",
    "\toutput = model(x).detach()\n",
    "\treturn output.numpy()\n",
    "\n",
    "output = predict_avg_oxi_state(model, x_test)\n"
   ],
   "id": "c09e2a58e672dec8"
  },
  {
   "metadata": {},
   "cell_type": "code",
   "outputs": [],
   "execution_count": null,
   "source": [
    "# print(output.numpy(), y_test)\n",
    "oxi_states = np.array(list(range(0,8)))\n",
    "avg_oxi_state = np.dot(y_test, oxi_states)\n",
    "avg_oxi_state_predicted = np.dot(output, oxi_states)"
   ],
   "id": "542ddfa2fa9121c8"
  },
  {
   "metadata": {},
   "cell_type": "code",
   "outputs": [],
   "execution_count": null,
   "source": [
    "from sklearn.metrics import confusion_matrix, r2_score, mean_squared_error\n",
    "import matplotlib.pyplot as plt\n",
    "# confusion_matrix(avg_oxi_state, avg_oxi_state_predicted)\n",
    "plt.plot(avg_oxi_state, avg_oxi_state_predicted, 'o')\n",
    "# plt.plot(y_test_avg, output, 'o')\n",
    "plt.show()\n",
    "\n",
    "print(\"R2_score: \", round(r2_score(avg_oxi_state, avg_oxi_state_predicted),2))\n",
    "print(\"MSE: \", round(mean_squared_error(avg_oxi_state, avg_oxi_state_predicted),2))\n",
    "# print(r2_score(y_test_avg, output))"
   ],
   "id": "87ad7292e8e240f3"
  },
  {
   "metadata": {},
   "cell_type": "code",
   "outputs": [],
   "execution_count": null,
   "source": [
    "# np.save(f'y_test_used.npy', y_test)\n",
    "# np.save(f'output_fnn.npy', output.numpy())"
   ],
   "id": "bb9918f65bc6fc67"
  },
  {
   "metadata": {},
   "cell_type": "code",
   "outputs": [],
   "execution_count": null,
   "source": "",
   "id": "7db574e25d599b13"
  }
 ],
 "metadata": {
  "kernelspec": {
   "display_name": "Python 3",
   "language": "python",
   "name": "python3"
  },
  "language_info": {
   "codemirror_mode": {
    "name": "ipython",
    "version": 2
   },
   "file_extension": ".py",
   "mimetype": "text/x-python",
   "name": "python",
   "nbconvert_exporter": "python",
   "pygments_lexer": "ipython2",
   "version": "2.7.6"
  }
 },
 "nbformat": 4,
 "nbformat_minor": 5
}
