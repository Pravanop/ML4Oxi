{
 "cells": [
  {
   "metadata": {
    "ExecuteTime": {
     "end_time": "2024-12-17T05:16:47.610225Z",
     "start_time": "2024-12-17T05:16:47.601947Z"
    }
   },
   "cell_type": "code",
   "source": [
    "from torch import nn\n",
    "from torch.ao.nn.quantized import Dropout\n",
    "import torch.nn.functional as F\n",
    "import wandb\n",
    "import torch\n",
    "\n",
    "import numpy as np\n",
    "device = torch.device('cuda' if torch.cuda.is_available() else 'cpu')"
   ],
   "id": "4a1ac8705780644f",
   "outputs": [],
   "execution_count": 381
  },
  {
   "metadata": {},
   "cell_type": "markdown",
   "source": "## Data Normalization",
   "id": "1d64b4b7b522a891"
  },
  {
   "metadata": {
    "ExecuteTime": {
     "end_time": "2024-12-17T05:16:47.808330Z",
     "start_time": "2024-12-17T05:16:47.617635Z"
    }
   },
   "cell_type": "code",
   "source": [
    "#load data\n",
    "\n",
    "path = '../dataset'\n",
    "energy_interval = 0.3\n",
    "\n",
    "augmented = True\n",
    "\n",
    "if augmented:\n",
    "\tx_train = np.load(f'{path}/x_train_augmented_{energy_interval}.npy')\n",
    "\ty_train = np.load(f'{path}/y_train_augmented_{energy_interval}.npy')\n",
    "else:\n",
    "\tx_train = np.load(f'{path}/x_train_{energy_interval}.npy')\n",
    "\ty_train = np.load(f'{path}/y_train_{energy_interval}.npy')\n",
    "x_test = np.load(f'{path}/x_test_{energy_interval}.npy')\n",
    "y_test = np.load(f'{path}/y_test_{energy_interval}.npy')\n"
   ],
   "id": "fb53fa75553123d3",
   "outputs": [],
   "execution_count": 382
  },
  {
   "metadata": {
    "ExecuteTime": {
     "end_time": "2024-12-17T05:16:47.975782Z",
     "start_time": "2024-12-17T05:16:47.819351Z"
    }
   },
   "cell_type": "code",
   "source": [
    "mix_x_test = np.load(f'{path}/mix_x_test.npy')\n",
    "mix_y_test = np.load(f'{path}/mix_y_test.npy')\n",
    "\n",
    "mix_x_train = np.load(f'{path}/mix_x_train.npy')\n",
    "mix_y_train = np.load(f'{path}/mix_y_train.npy')"
   ],
   "id": "2210cba0093abe2d",
   "outputs": [],
   "execution_count": 383
  },
  {
   "metadata": {
    "ExecuteTime": {
     "end_time": "2024-12-17T05:16:47.992127Z",
     "start_time": "2024-12-17T05:16:47.987593Z"
    }
   },
   "cell_type": "code",
   "source": "mix_x_train.shape, mix_y_train.shape, mix_x_test.shape, mix_y_test.shape",
   "id": "3eb1184a69b78e35",
   "outputs": [
    {
     "data": {
      "text/plain": [
       "((31500, 1734), (31500, 8), (3500, 1734), (3500, 8))"
      ]
     },
     "execution_count": 384,
     "metadata": {},
     "output_type": "execute_result"
    }
   ],
   "execution_count": 384
  },
  {
   "metadata": {
    "ExecuteTime": {
     "end_time": "2024-12-17T05:16:48.008751Z",
     "start_time": "2024-12-17T05:16:48.004709Z"
    }
   },
   "cell_type": "code",
   "source": "print(x_train.shape, y_train.shape, x_test.shape, y_test.shape)",
   "id": "c5f03d0131171626",
   "outputs": [
    {
     "name": "stdout",
     "output_type": "stream",
     "text": [
      "(37424, 1734) (37424, 8) (1170, 1734) (1170, 8)\n"
     ]
    }
   ],
   "execution_count": 385
  },
  {
   "metadata": {
    "ExecuteTime": {
     "end_time": "2024-12-17T05:16:48.259805Z",
     "start_time": "2024-12-17T05:16:48.026132Z"
    }
   },
   "cell_type": "code",
   "source": [
    "x_train = np.concatenate((x_train, mix_x_train))\n",
    "y_train = np.concatenate((y_train, mix_y_train))\n",
    "\n",
    "x_test = np.concatenate((x_test, mix_x_test))\n",
    "y_test = np.concatenate((y_test, mix_y_test))"
   ],
   "id": "47acf9a87f27abb1",
   "outputs": [],
   "execution_count": 386
  },
  {
   "metadata": {
    "ExecuteTime": {
     "end_time": "2024-12-17T05:16:48.277441Z",
     "start_time": "2024-12-17T05:16:48.272425Z"
    }
   },
   "cell_type": "code",
   "source": "x_train.shape, y_train.shape, x_test.shape, y_test.shape",
   "id": "c25b0cf5fa6428b9",
   "outputs": [
    {
     "data": {
      "text/plain": [
       "((68924, 1734), (68924, 8), (4670, 1734), (4670, 8))"
      ]
     },
     "execution_count": 387,
     "metadata": {},
     "output_type": "execute_result"
    }
   ],
   "execution_count": 387
  },
  {
   "metadata": {},
   "cell_type": "markdown",
   "source": "## Hyperparameter Tuning",
   "id": "a39d37532a612f1d"
  },
  {
   "metadata": {
    "ExecuteTime": {
     "end_time": "2024-12-17T05:16:48.348634Z",
     "start_time": "2024-12-17T05:16:48.344678Z"
    }
   },
   "cell_type": "code",
   "source": [
    "learning_rate = 0.001\n",
    "batch_size = 256\n",
    "num_epochs = 50"
   ],
   "id": "fa920f157cfa5e61",
   "outputs": [],
   "execution_count": 388
  },
  {
   "metadata": {},
   "cell_type": "markdown",
   "source": "## Model Training",
   "id": "278631d6039f4ebd"
  },
  {
   "metadata": {},
   "cell_type": "markdown",
   "source": "### Model Definitions",
   "id": "1720580668c3594"
  },
  {
   "metadata": {
    "ExecuteTime": {
     "end_time": "2024-12-17T05:36:12.530409Z",
     "start_time": "2024-12-17T05:36:12.520082Z"
    }
   },
   "cell_type": "code",
   "source": [
    "import torch\n",
    "import torch.nn as nn\n",
    "\n",
    "class SimpleNN(nn.Module):\n",
    "    def __init__(self, input_size, num_classes, dropout_rate=0.01):\n",
    "        super(SimpleNN, self).__init__()\n",
    "\n",
    "        self.fc1 = nn.Linear(input_size, int(input_size / 2))\n",
    "        self.bn1 = nn.BatchNorm1d(int(input_size / 2))\n",
    "        self.relu = nn.ReLU()\n",
    "        self.dropout = nn.Dropout(dropout_rate)\n",
    "\n",
    "        self.fc2 = nn.Linear(int(input_size / 2), int(input_size / 2))\n",
    "        self.bn2 = nn.BatchNorm1d(int(input_size / 2))\n",
    "\n",
    "        self.fc3 = nn.Linear(int(input_size / 2), int(input_size / 4))\n",
    "        self.bn3 = nn.BatchNorm1d(int(input_size / 4))\n",
    "\n",
    "        self.fc4 = nn.Linear(int(input_size / 4), 128)\n",
    "        self.bn4 = nn.BatchNorm1d(128)\n",
    "\n",
    "        self.fc5 = nn.Linear(128, 64)\n",
    "        self.bn5 = nn.BatchNorm1d(64)\n",
    "\n",
    "        self.fc6 = nn.Linear(64, num_classes)\n",
    "\n",
    "    def forward(self, x):\n",
    "        out = self.fc1(x)\n",
    "        out = self.bn1(out)\n",
    "        out = self.relu(out)\n",
    "        out = self.dropout(out)\n",
    "\n",
    "        out = self.fc2(out)\n",
    "        out = self.bn2(out)\n",
    "        out = self.relu(out)\n",
    "        out = self.dropout(out)\n",
    "\n",
    "        out = self.fc3(out)\n",
    "        out = self.bn3(out)\n",
    "        out = self.relu(out)\n",
    "        out = self.dropout(out)\n",
    "\n",
    "        out = self.fc4(out)\n",
    "        out = self.bn4(out)\n",
    "        out = self.relu(out)\n",
    "\n",
    "        out = self.fc5(out)\n",
    "        out = self.bn5(out)\n",
    "        out = self.relu(out)\n",
    "\n",
    "        out = self.fc6(out)\n",
    "\n",
    "        return out"
   ],
   "id": "787e0f279aa86ccf",
   "outputs": [],
   "execution_count": 413
  },
  {
   "metadata": {
    "ExecuteTime": {
     "end_time": "2024-12-17T05:36:13.204078Z",
     "start_time": "2024-12-17T05:36:13.108978Z"
    }
   },
   "cell_type": "code",
   "source": [
    "# Make data loaders\n",
    "\n",
    "from torch.utils.data import DataLoader, TensorDataset\n",
    "\n",
    "train_dataset = TensorDataset(torch.Tensor(x_train), torch.Tensor(y_train))\n",
    "test_dataset = TensorDataset(torch.Tensor(x_test), torch.Tensor(y_test))\n",
    "\n",
    "train_loader = DataLoader(train_dataset, batch_size=batch_size, shuffle=True)\n",
    "test_loader = DataLoader(test_dataset, batch_size=32, shuffle=False)\n"
   ],
   "id": "93f7bdc7a5618fd1",
   "outputs": [],
   "execution_count": 414
  },
  {
   "metadata": {},
   "cell_type": "markdown",
   "source": "### Training Loop",
   "id": "2aaaf725233afad8"
  },
  {
   "metadata": {
    "ExecuteTime": {
     "end_time": "2024-12-17T05:36:14.038985Z",
     "start_time": "2024-12-17T05:36:14.032652Z"
    }
   },
   "cell_type": "code",
   "source": [
    "# model training\n",
    "def train_model(model, criterion, optimizer, num_epochs, train_loader, test_loader, architecture):\n",
    "\ttotal_step = len(train_loader)\n",
    "\tfor epoch in range(num_epochs):\n",
    "\t\tfor i, (images, labels) in enumerate(train_loader):\n",
    "\t\t\timages = images.to(device)\n",
    "\t\t\tlabels = labels.to(device)\n",
    "\t\t\tif architecture == 'CNN':\n",
    "\t\t\t\timages = images.unsqueeze(1)\n",
    "\t\t\toutputs = model(images)\n",
    "\t\t\tloss = criterion(outputs, labels)\n",
    "\t\t\toptimizer.zero_grad()\n",
    "\t\t\tloss.backward()\n",
    "\t\t\toptimizer.step()\n",
    "\t\t\tif (i+1) % 100 == 0:\n",
    "\t\t\t\tprint ('Epoch [{}/{}], Step [{}/{}], Loss: {:.4f}'\n",
    "\t\t\t\t\t   .format(epoch+1, num_epochs, i+1, total_step, loss.item()))\n",
    "\t\t\t\t# wandb.log({'training_loss': loss.item()})\n",
    "\t\tval_loss = 0\n",
    "\t\twith torch.no_grad():\n",
    "\t\t\tfor i, (images, labels) in enumerate(test_loader):\n",
    "\t\t\t\timages = images.to(device)\n",
    "\t\t\t\tlabels = labels.to(device)\n",
    "\t\t\t\tif architecture == 'CNN':\n",
    "\t\t\t\t\timages = images.unsqueeze(1)\n",
    "\t\t\t\toutputs = model(images)\n",
    "\t\t\t\t# outputs = F.log_softmax(outputs, dim=1)\n",
    "\t\t\t\t# labels = F.softmax(labels, dim=1)\n",
    "\t\t\t\tval_loss += criterion(outputs, labels)\n",
    "\t\tprint('Validation loss: {:.4f}'.format(val_loss/testing_size))\n",
    "\t\t# wandb.log({'validation_loss': val_loss/testing_size})\n",
    "\t# break\n",
    "\treturn model"
   ],
   "id": "27e6afdbbe12af71",
   "outputs": [],
   "execution_count": 415
  },
  {
   "metadata": {
    "ExecuteTime": {
     "end_time": "2024-12-17T05:40:13.838465Z",
     "start_time": "2024-12-17T05:36:14.662947Z"
    }
   },
   "cell_type": "code",
   "source": [
    "input_size = x_train.shape[1]\n",
    "num_classes = y_train.shape[1]\n",
    "lr = learning_rate\n",
    "training_size = len(train_loader)\n",
    "testing_size = len(test_loader)\n",
    "# model = CNN1D(num_classes).to(device)\n",
    "model = SimpleNN(input_size, num_classes).to(device)\n",
    "# model = SimpleRNN(num_classes=num_classes).to(device)\n",
    "batch_size = batch_size\n",
    "num_epochs = num_epochs\n",
    "architecture = 'FNN' if isinstance(model, SimpleNN) else 'CNN'\n",
    "# architecture = 'FNN' if isinstance(model, SimpleNN) else 'RNN'\n",
    "\n",
    "criterion = nn.MSELoss()\n",
    "optimizer = torch.optim.Adam(model.parameters(), lr=lr)\n",
    "\n",
    "model = train_model(model, criterion, optimizer, num_epochs, train_loader, test_loader, architecture)\n"
   ],
   "id": "c3c9a69aed69be1",
   "outputs": [
    {
     "name": "stdout",
     "output_type": "stream",
     "text": [
      "Epoch [1/50], Step [100/270], Loss: 0.0431\n",
      "Epoch [1/50], Step [200/270], Loss: 0.0298\n",
      "Validation loss: 0.0250\n",
      "Epoch [2/50], Step [100/270], Loss: 0.0287\n",
      "Epoch [2/50], Step [200/270], Loss: 0.0248\n",
      "Validation loss: 0.0247\n",
      "Epoch [3/50], Step [100/270], Loss: 0.0219\n",
      "Epoch [3/50], Step [200/270], Loss: 0.0213\n",
      "Validation loss: 0.0215\n",
      "Epoch [4/50], Step [100/270], Loss: 0.0254\n",
      "Epoch [4/50], Step [200/270], Loss: 0.0187\n",
      "Validation loss: 0.0212\n",
      "Epoch [5/50], Step [100/270], Loss: 0.0174\n",
      "Epoch [5/50], Step [200/270], Loss: 0.0207\n",
      "Validation loss: 0.0213\n",
      "Epoch [6/50], Step [100/270], Loss: 0.0173\n",
      "Epoch [6/50], Step [200/270], Loss: 0.0223\n",
      "Validation loss: 0.0207\n",
      "Epoch [7/50], Step [100/270], Loss: 0.0157\n",
      "Epoch [7/50], Step [200/270], Loss: 0.0171\n",
      "Validation loss: 0.0208\n",
      "Epoch [8/50], Step [100/270], Loss: 0.0172\n",
      "Epoch [8/50], Step [200/270], Loss: 0.0235\n",
      "Validation loss: 0.0204\n",
      "Epoch [9/50], Step [100/270], Loss: 0.0176\n",
      "Epoch [9/50], Step [200/270], Loss: 0.0201\n",
      "Validation loss: 0.0207\n",
      "Epoch [10/50], Step [100/270], Loss: 0.0161\n",
      "Epoch [10/50], Step [200/270], Loss: 0.0166\n",
      "Validation loss: 0.0200\n",
      "Epoch [11/50], Step [100/270], Loss: 0.0150\n",
      "Epoch [11/50], Step [200/270], Loss: 0.0180\n",
      "Validation loss: 0.0202\n",
      "Epoch [12/50], Step [100/270], Loss: 0.0159\n",
      "Epoch [12/50], Step [200/270], Loss: 0.0209\n",
      "Validation loss: 0.0218\n",
      "Epoch [13/50], Step [100/270], Loss: 0.0179\n",
      "Epoch [13/50], Step [200/270], Loss: 0.0162\n",
      "Validation loss: 0.0204\n",
      "Epoch [14/50], Step [100/270], Loss: 0.0142\n",
      "Epoch [14/50], Step [200/270], Loss: 0.0190\n",
      "Validation loss: 0.0193\n",
      "Epoch [15/50], Step [100/270], Loss: 0.0144\n",
      "Epoch [15/50], Step [200/270], Loss: 0.0163\n",
      "Validation loss: 0.0190\n",
      "Epoch [16/50], Step [100/270], Loss: 0.0143\n",
      "Epoch [16/50], Step [200/270], Loss: 0.0143\n",
      "Validation loss: 0.0200\n",
      "Epoch [17/50], Step [100/270], Loss: 0.0163\n",
      "Epoch [17/50], Step [200/270], Loss: 0.0154\n",
      "Validation loss: 0.0195\n",
      "Epoch [18/50], Step [100/270], Loss: 0.0151\n",
      "Epoch [18/50], Step [200/270], Loss: 0.0183\n",
      "Validation loss: 0.0195\n",
      "Epoch [19/50], Step [100/270], Loss: 0.0117\n",
      "Epoch [19/50], Step [200/270], Loss: 0.0156\n",
      "Validation loss: 0.0202\n",
      "Epoch [20/50], Step [100/270], Loss: 0.0106\n",
      "Epoch [20/50], Step [200/270], Loss: 0.0141\n",
      "Validation loss: 0.0193\n",
      "Epoch [21/50], Step [100/270], Loss: 0.0153\n",
      "Epoch [21/50], Step [200/270], Loss: 0.0180\n",
      "Validation loss: 0.0193\n",
      "Epoch [22/50], Step [100/270], Loss: 0.0141\n",
      "Epoch [22/50], Step [200/270], Loss: 0.0133\n",
      "Validation loss: 0.0187\n",
      "Epoch [23/50], Step [100/270], Loss: 0.0138\n",
      "Epoch [23/50], Step [200/270], Loss: 0.0174\n",
      "Validation loss: 0.0189\n",
      "Epoch [24/50], Step [100/270], Loss: 0.0114\n",
      "Epoch [24/50], Step [200/270], Loss: 0.0106\n",
      "Validation loss: 0.0199\n",
      "Epoch [25/50], Step [100/270], Loss: 0.0134\n",
      "Epoch [25/50], Step [200/270], Loss: 0.0130\n",
      "Validation loss: 0.0200\n",
      "Epoch [26/50], Step [100/270], Loss: 0.0153\n",
      "Epoch [26/50], Step [200/270], Loss: 0.0138\n",
      "Validation loss: 0.0186\n",
      "Epoch [27/50], Step [100/270], Loss: 0.0148\n",
      "Epoch [27/50], Step [200/270], Loss: 0.0098\n",
      "Validation loss: 0.0190\n",
      "Epoch [28/50], Step [100/270], Loss: 0.0156\n",
      "Epoch [28/50], Step [200/270], Loss: 0.0136\n",
      "Validation loss: 0.0187\n",
      "Epoch [29/50], Step [100/270], Loss: 0.0131\n",
      "Epoch [29/50], Step [200/270], Loss: 0.0146\n",
      "Validation loss: 0.0192\n",
      "Epoch [30/50], Step [100/270], Loss: 0.0115\n",
      "Epoch [30/50], Step [200/270], Loss: 0.0152\n",
      "Validation loss: 0.0180\n",
      "Epoch [31/50], Step [100/270], Loss: 0.0144\n",
      "Epoch [31/50], Step [200/270], Loss: 0.0113\n",
      "Validation loss: 0.0194\n",
      "Epoch [32/50], Step [100/270], Loss: 0.0161\n",
      "Epoch [32/50], Step [200/270], Loss: 0.0134\n",
      "Validation loss: 0.0190\n",
      "Epoch [33/50], Step [100/270], Loss: 0.0179\n",
      "Epoch [33/50], Step [200/270], Loss: 0.0124\n",
      "Validation loss: 0.0193\n",
      "Epoch [34/50], Step [100/270], Loss: 0.0110\n",
      "Epoch [34/50], Step [200/270], Loss: 0.0127\n",
      "Validation loss: 0.0192\n",
      "Epoch [35/50], Step [100/270], Loss: 0.0133\n",
      "Epoch [35/50], Step [200/270], Loss: 0.0106\n",
      "Validation loss: 0.0178\n",
      "Epoch [36/50], Step [100/270], Loss: 0.0177\n",
      "Epoch [36/50], Step [200/270], Loss: 0.0144\n",
      "Validation loss: 0.0181\n",
      "Epoch [37/50], Step [100/270], Loss: 0.0109\n",
      "Epoch [37/50], Step [200/270], Loss: 0.0139\n",
      "Validation loss: 0.0192\n",
      "Epoch [38/50], Step [100/270], Loss: 0.0124\n",
      "Epoch [38/50], Step [200/270], Loss: 0.0129\n",
      "Validation loss: 0.0184\n",
      "Epoch [39/50], Step [100/270], Loss: 0.0129\n",
      "Epoch [39/50], Step [200/270], Loss: 0.0140\n",
      "Validation loss: 0.0180\n",
      "Epoch [40/50], Step [100/270], Loss: 0.0126\n",
      "Epoch [40/50], Step [200/270], Loss: 0.0091\n",
      "Validation loss: 0.0189\n",
      "Epoch [41/50], Step [100/270], Loss: 0.0132\n",
      "Epoch [41/50], Step [200/270], Loss: 0.0090\n",
      "Validation loss: 0.0185\n",
      "Epoch [42/50], Step [100/270], Loss: 0.0128\n",
      "Epoch [42/50], Step [200/270], Loss: 0.0143\n",
      "Validation loss: 0.0192\n",
      "Epoch [43/50], Step [100/270], Loss: 0.0128\n",
      "Epoch [43/50], Step [200/270], Loss: 0.0097\n",
      "Validation loss: 0.0185\n",
      "Epoch [44/50], Step [100/270], Loss: 0.0091\n",
      "Epoch [44/50], Step [200/270], Loss: 0.0160\n",
      "Validation loss: 0.0180\n",
      "Epoch [45/50], Step [100/270], Loss: 0.0134\n",
      "Epoch [45/50], Step [200/270], Loss: 0.0105\n",
      "Validation loss: 0.0184\n",
      "Epoch [46/50], Step [100/270], Loss: 0.0108\n",
      "Epoch [46/50], Step [200/270], Loss: 0.0130\n",
      "Validation loss: 0.0179\n",
      "Epoch [47/50], Step [100/270], Loss: 0.0110\n",
      "Epoch [47/50], Step [200/270], Loss: 0.0122\n",
      "Validation loss: 0.0188\n",
      "Epoch [48/50], Step [100/270], Loss: 0.0066\n",
      "Epoch [48/50], Step [200/270], Loss: 0.0147\n",
      "Validation loss: 0.0185\n",
      "Epoch [49/50], Step [100/270], Loss: 0.0116\n",
      "Epoch [49/50], Step [200/270], Loss: 0.0103\n",
      "Validation loss: 0.0173\n",
      "Epoch [50/50], Step [100/270], Loss: 0.0105\n",
      "Epoch [50/50], Step [200/270], Loss: 0.0128\n",
      "Validation loss: 0.0179\n"
     ]
    }
   ],
   "execution_count": 416
  },
  {
   "metadata": {},
   "cell_type": "markdown",
   "source": "## Performance Analysis",
   "id": "4bb02b47f9bf6ff7"
  },
  {
   "metadata": {
    "ExecuteTime": {
     "end_time": "2024-12-17T05:40:13.951580Z",
     "start_time": "2024-12-17T05:40:13.852704Z"
    }
   },
   "cell_type": "code",
   "source": [
    "#predict average oxidation state\n",
    "\n",
    "def predict_avg_oxi_state(model, x):\n",
    "\n",
    "\tx = torch.Tensor(x).to(device)\n",
    "\toutput = model(x).detach()\n",
    "\treturn output\n",
    "\n",
    "output = predict_avg_oxi_state(model, x_test)\n"
   ],
   "id": "d81e6306912a19b8",
   "outputs": [],
   "execution_count": 417
  },
  {
   "metadata": {
    "ExecuteTime": {
     "end_time": "2024-12-17T05:40:13.966749Z",
     "start_time": "2024-12-17T05:40:13.954479Z"
    }
   },
   "cell_type": "code",
   "source": [
    "# print(output.numpy(), y_test)\n",
    "oxi_states = np.array(list(range(0,8)))\n",
    "avg_oxi_state = np.dot(y_test, oxi_states)\n",
    "avg_oxi_state_predicted = np.dot(output.numpy(), oxi_states)"
   ],
   "id": "e01e567b1425325d",
   "outputs": [],
   "execution_count": 418
  },
  {
   "metadata": {
    "ExecuteTime": {
     "end_time": "2024-12-17T05:40:14.100890Z",
     "start_time": "2024-12-17T05:40:14.005554Z"
    }
   },
   "cell_type": "code",
   "source": [
    "from sklearn.metrics import confusion_matrix, r2_score\n",
    "import matplotlib.pyplot as plt\n",
    "# confusion_matrix(avg_oxi_state, avg_oxi_state_predicted)\n",
    "plt.plot(avg_oxi_state, avg_oxi_state_predicted, 'o')\n",
    "plt.show()\n",
    "\n",
    "print(r2_score(avg_oxi_state, avg_oxi_state_predicted))"
   ],
   "id": "58076856d14e1dc1",
   "outputs": [
    {
     "data": {
      "text/plain": [
       "<Figure size 640x480 with 1 Axes>"
      ],
      "image/png": "[encoded data removed]"
     },
     "metadata": {},
     "output_type": "display_data"
    },
    {
     "name": "stdout",
     "output_type": "stream",
     "text": [
      "0.9235793298545513\n"
     ]
    }
   ],
   "execution_count": 419
  },
  {
   "metadata": {
    "ExecuteTime": {
     "end_time": "2024-12-17T05:20:45.817573Z",
     "start_time": "2024-12-17T05:20:45.812172Z"
    }
   },
   "cell_type": "code",
   "source": [
    "# np.save(f'y_test_used.npy', y_test)\n",
    "# np.save(f'output_fnn.npy', output.numpy())"
   ],
   "id": "f118e867b8101f67",
   "outputs": [],
   "execution_count": 398
  },
  {
   "metadata": {
    "ExecuteTime": {
     "end_time": "2024-12-17T05:20:45.836565Z",
     "start_time": "2024-12-17T05:20:45.832702Z"
    }
   },
   "cell_type": "code",
   "source": "",
   "id": "c662bee31d3c4319",
   "outputs": [],
   "execution_count": null
  }
 ],
 "metadata": {
  "kernelspec": {
   "display_name": "Python 3",
   "language": "python",
   "name": "python3"
  },
  "language_info": {
   "codemirror_mode": {
    "name": "ipython",
    "version": 2
   },
   "file_extension": ".py",
   "mimetype": "text/x-python",
   "name": "python",
   "nbconvert_exporter": "python",
   "pygments_lexer": "ipython2",
   "version": "2.7.6"
  }
 },
 "nbformat": 4,
 "nbformat_minor": 5
}
