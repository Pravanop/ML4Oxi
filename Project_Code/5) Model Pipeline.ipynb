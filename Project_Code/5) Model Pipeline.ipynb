{
 "cells": [
  {
   "metadata": {
    "ExecuteTime": {
     "end_time": "2024-12-16T21:23:37.363769Z",
     "start_time": "2024-12-16T21:23:37.360009Z"
    }
   },
   "cell_type": "code",
   "source": [
    "from torch import nn\n",
    "import wandb\n",
    "import torch\n",
    "device = torch.device('cuda' if torch.cuda.is_available() else 'cpu')"
   ],
   "id": "4a1ac8705780644f",
   "outputs": [],
   "execution_count": 3
  },
  {
   "metadata": {},
   "cell_type": "markdown",
   "source": "## Data Normalization",
   "id": "1d64b4b7b522a891"
  },
  {
   "metadata": {},
   "cell_type": "code",
   "outputs": [],
   "execution_count": null,
   "source": "",
   "id": "fb53fa75553123d3"
  },
  {
   "metadata": {},
   "cell_type": "markdown",
   "source": "## Hyperparameter Tuning",
   "id": "a39d37532a612f1d"
  },
  {
   "metadata": {},
   "cell_type": "code",
   "outputs": [],
   "execution_count": null,
   "source": "",
   "id": "fa920f157cfa5e61"
  },
  {
   "metadata": {},
   "cell_type": "markdown",
   "source": "## Model Training",
   "id": "278631d6039f4ebd"
  },
  {
   "metadata": {},
   "cell_type": "code",
   "outputs": [],
   "execution_count": null,
   "source": "",
   "id": "6539a5f0503afb23"
  },
  {
   "metadata": {},
   "cell_type": "markdown",
   "source": "## Model Definitions",
   "id": "1720580668c3594"
  },
  {
   "metadata": {},
   "cell_type": "code",
   "outputs": [],
   "execution_count": null,
   "source": [
    "\n",
    "\n",
    "# simple neural network\n",
    "\n",
    "class SimpleNN(nn.Module):\n",
    "\tdef __init__(self, input_size, num_classes):\n",
    "\t\tsuper(SimpleNN, self).__init__()\n",
    "\t\tself.fc1 = nn.Linear(input_size, int(input_size/2))\n",
    "\t\tself.relu = nn.ReLU()\n",
    "\t\tself.fc2 = nn.Linear(int(input_size/2), int(input_size/4))\n",
    "\t\tself.fc3 = nn.Linear(int(input_size/4), num_classes)\n",
    "\n",
    "\tdef forward(self, x):\n",
    "\t\tout = self.fc1(x)\n",
    "\t\tout = self.relu(out)\n",
    "\t\tout = self.fc2(out)\n",
    "\t\tout = self.relu(out)\n",
    "\t\tout = self.fc3(out)\n",
    "\t\treturn out\n"
   ],
   "id": "787e0f279aa86ccf"
  },
  {
   "metadata": {},
   "cell_type": "code",
   "outputs": [],
   "execution_count": null,
   "source": [
    "# convolutional neural network\n",
    "# variable input length\n",
    "\n",
    "class ConvNN(nn.Module):\n",
    "\n",
    "\tdef __init__(self, num_classes):\n",
    "\t\tsuper(ConvNN, self).__init__()\n",
    "\t\tself.layer1 = nn.Sequential(\n",
    "\t\t\tnn.Conv1d(1, 16, kernel_size=5, stride=1, padding=2),\n",
    "\t\t\tnn.ReLU(),\n",
    "\t\t\tnn.MaxPool2d(kernel_size=2, stride=2))\n",
    "\t\tself.layer2 = nn.Sequential(\n",
    "\t\t\tnn.Conv2d(16, 32, kernel_size=5, stride=1, padding=2),\n",
    "\t\t\tnn.ReLU(),\n",
    "\t\t\tnn.MaxPool2d(kernel_size=2, stride=2))\n",
    "\t\tself.fc = nn.Linear(7*7*32, num_classes)"
   ],
   "id": "baacb2b0e78825bc"
  },
  {
   "metadata": {},
   "cell_type": "code",
   "outputs": [],
   "execution_count": null,
   "source": [
    "# model training\n",
    "def train_model(model, criterion, optimizer, num_epochs, train_loader, test_loader, wandb):\n",
    "\ttotal_step = len(train_loader)\n",
    "\tfor epoch in range(num_epochs):\n",
    "\t\tfor i, (images, labels) in enumerate(train_loader):\n",
    "\t\t\timages = images.to(device)\n",
    "\t\t\tlabels = labels.to(device)\n",
    "\t\t\toutputs = model(images)\n",
    "\t\t\tloss = criterion(outputs, labels)\n",
    "\t\t\toptimizer.zero_grad()\n",
    "\t\t\tloss.backward()\n",
    "\t\t\toptimizer.step()\n",
    "\t\t\tif (i+1) % 10 == 0:\n",
    "\t\t\t\tprint ('Epoch [{}/{}], Step [{}/{}], Loss: {:.4f}'\n",
    "\t\t\t\t\t   .format(epoch+1, num_epochs, i+1, total_step, loss.item()))\n",
    "\t\t\t\twandb.log({'training_loss': loss.item()})\n",
    "\t\tval_loss = 0\n",
    "\t\twith torch.no_grad():\n",
    "\t\t\tfor i, (images, labels) in enumerate(test_loader):\n",
    "\t\t\t\timages = images.to(device)\n",
    "\t\t\t\tlabels = labels.to(device)\n",
    "\t\t\t\toutputs = model(images)\n",
    "\t\t\t\tval_loss += criterion(outputs, labels)\n",
    "\t\tprint('Validation loss: {:.4f}'.format(val_loss))\n",
    "\t\twandb.log({'validation_loss': val_loss})\n",
    "\t\treturn model"
   ],
   "id": "27e6afdbbe12af71"
  },
  {
   "metadata": {},
   "cell_type": "code",
   "outputs": [],
   "execution_count": null,
   "source": [
    "input_size = x\n",
    "lr = 0.001\n",
    "training_size = y\n",
    "testing_size = z\n",
    "model = SimpleNN(1000, 8).to(device)\n",
    "batch_size = t\n",
    "num_epochs = 5\n",
    "architecture = 'FNN' if isinstance(model, SimpleNN) else 'CNN'\n",
    "print(architecture)\n",
    "\n",
    "wandb.init(\n",
    "    # set the wandb project where this run will be logged\n",
    "    project=\"ml4Oxi\",\n",
    "    # track hyperparameters and run metadata\n",
    "    config={\n",
    "    \"learning_rate\": lr,\n",
    "    \"architecture\": architecture,\n",
    "    \"dataset\": \"MP_only\",\n",
    "    \"epochs\": num_epochs,\n",
    "    }\n",
    ")\n",
    "\n",
    "criterion = nn.MSELoss()\n",
    "optimizer = torch.optim.Adam(model.parameters(), lr=lr)\n",
    "\n",
    "model = train_model(model, criterion, optimizer, 5, train_loader, test_loader, wandb)\n"
   ],
   "id": "c3c9a69aed69be1"
  },
  {
   "metadata": {},
   "cell_type": "markdown",
   "source": "## Model Evaluation",
   "id": "e1509ecfb674d023"
  },
  {
   "metadata": {},
   "cell_type": "code",
   "outputs": [],
   "execution_count": null,
   "source": "",
   "id": "14ea1783795372f7"
  },
  {
   "metadata": {},
   "cell_type": "markdown",
   "source": "## Performance Analysis",
   "id": "4bb02b47f9bf6ff7"
  },
  {
   "metadata": {},
   "cell_type": "code",
   "outputs": [],
   "execution_count": null,
   "source": "",
   "id": "d81e6306912a19b8"
  }
 ],
 "metadata": {
  "kernelspec": {
   "display_name": "Python 3",
   "language": "python",
   "name": "python3"
  },
  "language_info": {
   "codemirror_mode": {
    "name": "ipython",
    "version": 2
   },
   "file_extension": ".py",
   "mimetype": "text/x-python",
   "name": "python",
   "nbconvert_exporter": "python",
   "pygments_lexer": "ipython2",
   "version": "2.7.6"
  }
 },
 "nbformat": 4,
 "nbformat_minor": 5
}
