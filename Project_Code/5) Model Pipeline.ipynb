{
 "cells": [
  {
   "metadata": {
    "ExecuteTime": {
     "end_time": "2024-12-17T01:56:47.299563Z",
     "start_time": "2024-12-17T01:56:47.292437Z"
    }
   },
   "cell_type": "code",
   "source": [
    "from torch import nn\n",
    "from torch.ao.nn.quantized import Dropout\n",
    "\n",
    "import wandb\n",
    "import torch\n",
    "import numpy as np\n",
    "device = torch.device('cuda' if torch.cuda.is_available() else 'cpu')"
   ],
   "id": "4a1ac8705780644f",
   "outputs": [],
   "execution_count": 249
  },
  {
   "metadata": {},
   "cell_type": "markdown",
   "source": "## Data Normalization",
   "id": "1d64b4b7b522a891"
  },
  {
   "metadata": {
    "ExecuteTime": {
     "end_time": "2024-12-17T01:57:39.387916Z",
     "start_time": "2024-12-17T01:57:39.216584Z"
    }
   },
   "cell_type": "code",
   "source": [
    "#load data\n",
    "\n",
    "path = '../dataset'\n",
    "energy_interval = 0.3\n",
    "\n",
    "augmented = True\n",
    "\n",
    "if augmented:\n",
    "\tx_train = np.load(f'{path}/x_train_augmented_{energy_interval}.npy')\n",
    "\ty_train = np.load(f'{path}/y_train_augmented_{energy_interval}.npy')\n",
    "else:\n",
    "\tx_train = np.load(f'{path}/x_train_{energy_interval}.npy')\n",
    "\ty_train = np.load(f'{path}/y_train_{energy_interval}.npy')\n",
    "x_test = np.load(f'{path}/x_test_{energy_interval}.npy')\n",
    "y_test = np.load(f'{path}/y_test_{energy_interval}.npy')\n"
   ],
   "id": "fb53fa75553123d3",
   "outputs": [],
   "execution_count": 254
  },
  {
   "metadata": {
    "ExecuteTime": {
     "end_time": "2024-12-17T01:57:51.014122Z",
     "start_time": "2024-12-17T01:57:50.896297Z"
    }
   },
   "cell_type": "code",
   "source": [
    "mix_x_test = np.load(f'{path}/mix_x_test.npy')\n",
    "mix_y_test = np.load(f'{path}/mix_y_test.npy')\n",
    "\n",
    "mix_x_train = np.load(f'{path}/mix_x_train.npy')\n",
    "mix_y_train = np.load(f'{path}/mix_y_train.npy')"
   ],
   "id": "2210cba0093abe2d",
   "outputs": [],
   "execution_count": 256
  },
  {
   "metadata": {
    "ExecuteTime": {
     "end_time": "2024-12-17T01:57:58.530300Z",
     "start_time": "2024-12-17T01:57:58.525314Z"
    }
   },
   "cell_type": "code",
   "source": "mix_x_train.shape, mix_y_train.shape, mix_x_test.shape, mix_y_test.shape",
   "id": "3eb1184a69b78e35",
   "outputs": [
    {
     "data": {
      "text/plain": [
       "((28000, 1734), (28000,), (7000, 1734), (7000,))"
      ]
     },
     "execution_count": 257,
     "metadata": {},
     "output_type": "execute_result"
    }
   ],
   "execution_count": 257
  },
  {
   "metadata": {
    "ExecuteTime": {
     "end_time": "2024-12-17T01:58:59.242871Z",
     "start_time": "2024-12-17T01:58:59.238696Z"
    }
   },
   "cell_type": "code",
   "source": "print(mix_y_test)",
   "id": "a0d91f9f7faa1e51",
   "outputs": [
    {
     "name": "stdout",
     "output_type": "stream",
     "text": [
      "[3.27092466 1.32096661 1.16107424 ... 4.00466312 2.13026264 2.04414627]\n"
     ]
    }
   ],
   "execution_count": 262
  },
  {
   "metadata": {
    "ExecuteTime": {
     "end_time": "2024-12-17T01:57:41.703668Z",
     "start_time": "2024-12-17T01:57:41.699151Z"
    }
   },
   "cell_type": "code",
   "source": "print(x_train.shape, y_train.shape, x_test.shape, y_test.shape)",
   "id": "c5f03d0131171626",
   "outputs": [
    {
     "name": "stdout",
     "output_type": "stream",
     "text": [
      "(37424, 1734) (37424, 8) (1170, 1734) (1170, 8)\n"
     ]
    }
   ],
   "execution_count": 255
  },
  {
   "metadata": {
    "ExecuteTime": {
     "end_time": "2024-12-17T01:58:23.618457Z",
     "start_time": "2024-12-17T01:58:23.440359Z"
    }
   },
   "cell_type": "code",
   "source": [
    "x_train = np.concatenate((x_train, mix_x_train))\n",
    "y_train = np.concatenate((y_train, mix_y_train))\n",
    "\n",
    "x_test = np.concatenate((x_test, mix_x_test))\n",
    "y_test = np.concatenate((y_test, mix_y_test))"
   ],
   "id": "47acf9a87f27abb1",
   "outputs": [
    {
     "ename": "ValueError",
     "evalue": "all the input arrays must have same number of dimensions, but the array at index 0 has 2 dimension(s) and the array at index 1 has 1 dimension(s)",
     "output_type": "error",
     "traceback": [
      "\u001B[0;31m---------------------------------------------------------------------------\u001B[0m",
      "\u001B[0;31mValueError\u001B[0m                                Traceback (most recent call last)",
      "Cell \u001B[0;32mIn[258], line 2\u001B[0m\n\u001B[1;32m      1\u001B[0m x_train \u001B[38;5;241m=\u001B[39m np\u001B[38;5;241m.\u001B[39mconcatenate((x_train, mix_x_train))\n\u001B[0;32m----> 2\u001B[0m y_train \u001B[38;5;241m=\u001B[39m \u001B[43mnp\u001B[49m\u001B[38;5;241;43m.\u001B[39;49m\u001B[43mconcatenate\u001B[49m\u001B[43m(\u001B[49m\u001B[43m(\u001B[49m\u001B[43my_train\u001B[49m\u001B[43m,\u001B[49m\u001B[43m \u001B[49m\u001B[43mmix_y_train\u001B[49m\u001B[43m)\u001B[49m\u001B[43m)\u001B[49m\n\u001B[1;32m      4\u001B[0m x_test \u001B[38;5;241m=\u001B[39m np\u001B[38;5;241m.\u001B[39mconcatenate((x_test, mix_x_test))\n\u001B[1;32m      5\u001B[0m y_test \u001B[38;5;241m=\u001B[39m np\u001B[38;5;241m.\u001B[39mconcatenate((y_test, mix_y_test))\n",
      "\u001B[0;31mValueError\u001B[0m: all the input arrays must have same number of dimensions, but the array at index 0 has 2 dimension(s) and the array at index 1 has 1 dimension(s)"
     ]
    }
   ],
   "execution_count": 258
  },
  {
   "metadata": {
    "ExecuteTime": {
     "end_time": "2024-12-17T01:55:27.119978Z",
     "start_time": "2024-12-17T01:55:27.111020Z"
    }
   },
   "cell_type": "code",
   "source": "x_train.shape, y_train.shape, x_test.shape, y_test.shape",
   "id": "c25b0cf5fa6428b9",
   "outputs": [
    {
     "data": {
      "text/plain": [
       "((28000, 1734), (28000,))"
      ]
     },
     "execution_count": 247,
     "metadata": {},
     "output_type": "execute_result"
    }
   ],
   "execution_count": 247
  },
  {
   "metadata": {},
   "cell_type": "markdown",
   "source": "## Hyperparameter Tuning",
   "id": "a39d37532a612f1d"
  },
  {
   "metadata": {
    "ExecuteTime": {
     "end_time": "2024-12-17T01:47:13.913172Z",
     "start_time": "2024-12-17T01:47:13.909654Z"
    }
   },
   "cell_type": "code",
   "source": [
    "learning_rate = 0.001\n",
    "batch_size = 128\n",
    "num_epochs = 50"
   ],
   "id": "fa920f157cfa5e61",
   "outputs": [],
   "execution_count": 237
  },
  {
   "metadata": {},
   "cell_type": "markdown",
   "source": "## Model Training",
   "id": "278631d6039f4ebd"
  },
  {
   "metadata": {},
   "cell_type": "markdown",
   "source": "### Model Definitions",
   "id": "1720580668c3594"
  },
  {
   "metadata": {
    "ExecuteTime": {
     "end_time": "2024-12-17T01:47:13.929537Z",
     "start_time": "2024-12-17T01:47:13.923096Z"
    }
   },
   "cell_type": "code",
   "source": [
    "import torch\n",
    "import torch.nn as nn\n",
    "\n",
    "class SimpleNN(nn.Module):\n",
    "    def __init__(self, input_size, num_classes, dropout_rate=0.01):\n",
    "        super(SimpleNN, self).__init__()\n",
    "\n",
    "        self.fc1 = nn.Linear(input_size, int(input_size / 2))\n",
    "        self.bn1 = nn.BatchNorm1d(int(input_size / 2))\n",
    "        self.relu = nn.ReLU()\n",
    "        self.dropout = nn.Dropout(dropout_rate)\n",
    "\n",
    "        self.fc2 = nn.Linear(int(input_size / 2), int(input_size / 2))\n",
    "        self.bn2 = nn.BatchNorm1d(int(input_size / 2))\n",
    "\n",
    "        self.fc3 = nn.Linear(int(input_size / 2), int(input_size / 4))\n",
    "        self.bn3 = nn.BatchNorm1d(int(input_size / 4))\n",
    "\n",
    "        self.fc4 = nn.Linear(int(input_size / 4), 128)\n",
    "        self.bn4 = nn.BatchNorm1d(128)\n",
    "\n",
    "        self.fc5 = nn.Linear(128, 64)\n",
    "        self.bn5 = nn.BatchNorm1d(64)\n",
    "\n",
    "        self.fc6 = nn.Linear(64, num_classes)\n",
    "\n",
    "    def forward(self, x):\n",
    "        out = self.fc1(x)\n",
    "        out = self.bn1(out)\n",
    "        out = self.relu(out)\n",
    "        out = self.dropout(out)\n",
    "\n",
    "        out = self.fc2(out)\n",
    "        out = self.bn2(out)\n",
    "        out = self.relu(out)\n",
    "        out = self.dropout(out)\n",
    "\n",
    "        out = self.fc3(out)\n",
    "        out = self.bn3(out)\n",
    "        out = self.relu(out)\n",
    "        out = self.dropout(out)\n",
    "\n",
    "        out = self.fc4(out)\n",
    "        out = self.bn4(out)\n",
    "        out = self.relu(out)\n",
    "\n",
    "        out = self.fc5(out)\n",
    "        out = self.bn5(out)\n",
    "        out = self.relu(out)\n",
    "\n",
    "        out = self.fc6(out)\n",
    "        return out"
   ],
   "id": "787e0f279aa86ccf",
   "outputs": [],
   "execution_count": 238
  },
  {
   "metadata": {
    "ExecuteTime": {
     "end_time": "2024-12-17T01:47:13.944622Z",
     "start_time": "2024-12-17T01:47:13.940047Z"
    }
   },
   "cell_type": "code",
   "source": [
    "# convolutional neural network\n",
    "# variable input length\n",
    "\n",
    "class ConvNN(nn.Module):\n",
    "\n",
    "\tdef __init__(self, num_classes):\n",
    "\t\tsuper(ConvNN, self).__init__()\n",
    "\t\tself.layer1 = nn.Sequential(\n",
    "\t\t\tnn.Conv1d(1, 16, kernel_size=5, stride=1, padding=2),\n",
    "\t\t\tnn.ReLU(),\n",
    "\t\t\tnn.MaxPool2d(kernel_size=2, stride=2),\n",
    "\t\t)\n",
    "\t\tself.layer2 = nn.Sequential(\n",
    "\t\t\tnn.Conv2d(16, 32, kernel_size=5, stride=1, padding=2),\n",
    "\t\t\tnn.ReLU(),\n",
    "\t\t\tnn.MaxPool2d(kernel_size=2, stride=2))\n",
    "\t\tself.fc = nn.Linear(7*7*32, num_classes)"
   ],
   "id": "baacb2b0e78825bc",
   "outputs": [],
   "execution_count": 239
  },
  {
   "metadata": {
    "ExecuteTime": {
     "end_time": "2024-12-17T01:47:13.999047Z",
     "start_time": "2024-12-17T01:47:13.962331Z"
    }
   },
   "cell_type": "code",
   "source": [
    "# Make data loaders\n",
    "\n",
    "from torch.utils.data import DataLoader, TensorDataset\n",
    "\n",
    "train_dataset = TensorDataset(torch.Tensor(x_train), torch.Tensor(y_train))\n",
    "test_dataset = TensorDataset(torch.Tensor(x_test), torch.Tensor(y_test))\n",
    "\n",
    "train_loader = DataLoader(train_dataset, batch_size=batch_size, shuffle=True)\n",
    "test_loader = DataLoader(test_dataset, batch_size=32, shuffle=False)\n"
   ],
   "id": "93f7bdc7a5618fd1",
   "outputs": [],
   "execution_count": 240
  },
  {
   "metadata": {},
   "cell_type": "markdown",
   "source": "### Training Loop",
   "id": "2aaaf725233afad8"
  },
  {
   "metadata": {
    "ExecuteTime": {
     "end_time": "2024-12-17T01:47:14.007080Z",
     "start_time": "2024-12-17T01:47:14.001904Z"
    }
   },
   "cell_type": "code",
   "source": [
    "# model training\n",
    "def train_model(model, criterion, optimizer, num_epochs, train_loader, test_loader, wandb):\n",
    "\ttotal_step = len(train_loader)\n",
    "\tfor epoch in range(num_epochs):\n",
    "\t\tfor i, (images, labels) in enumerate(train_loader):\n",
    "\t\t\timages = images.to(device)\n",
    "\t\t\tlabels = labels.to(device)\n",
    "\t\t\toutputs = model(images)\n",
    "\t\t\tloss = criterion(outputs, labels)\n",
    "\t\t\toptimizer.zero_grad()\n",
    "\t\t\tloss.backward()\n",
    "\t\t\toptimizer.step()\n",
    "\t\t\tif (i+1) % 100 == 0:\n",
    "\t\t\t\tprint ('Epoch [{}/{}], Step [{}/{}], Loss: {:.4f}'\n",
    "\t\t\t\t\t   .format(epoch+1, num_epochs, i+1, total_step, loss.item()))\n",
    "\t\t\t\twandb.log({'training_loss': loss.item()})\n",
    "\t\tval_loss = 0\n",
    "\t\twith torch.no_grad():\n",
    "\t\t\tfor i, (images, labels) in enumerate(test_loader):\n",
    "\t\t\t\timages = images.to(device)\n",
    "\t\t\t\tlabels = labels.to(device)\n",
    "\t\t\t\toutputs = model(images)\n",
    "\t\t\t\tval_loss += criterion(outputs, labels)\n",
    "\t\tprint('Validation loss: {:.4f}'.format(val_loss/testing_size))\n",
    "\t\twandb.log({'validation_loss': val_loss/testing_size})\n",
    "\t# break\n",
    "\treturn model"
   ],
   "id": "27e6afdbbe12af71",
   "outputs": [],
   "execution_count": 241
  },
  {
   "metadata": {
    "ExecuteTime": {
     "end_time": "2024-12-17T01:50:18.212768Z",
     "start_time": "2024-12-17T01:47:14.017278Z"
    }
   },
   "cell_type": "code",
   "source": [
    "input_size = x_train.shape[1]\n",
    "num_classes = y_train.shape[1]\n",
    "lr = learning_rate\n",
    "training_size = len(train_loader)\n",
    "testing_size = len(test_loader)\n",
    "model = SimpleNN(input_size, num_classes).to(device)\n",
    "batch_size = batch_size\n",
    "num_epochs = num_epochs\n",
    "architecture = 'FNN' if isinstance(model, SimpleNN) else 'CNN'\n",
    "print(architecture)\n",
    "\n",
    "wandb.init(\n",
    "    # set the wandb project where this run will be logged\n",
    "    project=\"ml4Oxi\",\n",
    "    # track hyperparameters and run metadata\n",
    "    config={\n",
    "    \"learning_rate\": lr,\n",
    "    \"architecture\": architecture,\n",
    "    \"dataset\": \"MP_only\",\n",
    "    \"epochs\": num_epochs,\n",
    "\t\"training_size\": training_size,\n",
    "    }\n",
    ")\n",
    "\n",
    "criterion = nn.MSELoss()\n",
    "optimizer = torch.optim.Adam(model.parameters(), lr=lr)\n",
    "\n",
    "model = train_model(model, criterion, optimizer, num_epochs, train_loader, test_loader, wandb)\n"
   ],
   "id": "c3c9a69aed69be1",
   "outputs": [
    {
     "name": "stdout",
     "output_type": "stream",
     "text": [
      "FNN\n",
      "Epoch [1/50], Step [100/293], Loss: 0.0607\n",
      "Epoch [1/50], Step [200/293], Loss: 0.0428\n",
      "Validation loss: 0.0535\n",
      "Epoch [2/50], Step [100/293], Loss: 0.0576\n",
      "Epoch [2/50], Step [200/293], Loss: 0.0447\n",
      "Validation loss: 0.0497\n",
      "Epoch [3/50], Step [100/293], Loss: 0.0375\n",
      "Epoch [3/50], Step [200/293], Loss: 0.0478\n",
      "Validation loss: 0.0468\n",
      "Epoch [4/50], Step [100/293], Loss: 0.0329\n",
      "Epoch [4/50], Step [200/293], Loss: 0.0456\n",
      "Validation loss: 0.0481\n",
      "Epoch [5/50], Step [100/293], Loss: 0.0393\n",
      "Epoch [5/50], Step [200/293], Loss: 0.0348\n",
      "Validation loss: 0.0471\n",
      "Epoch [6/50], Step [100/293], Loss: 0.0331\n",
      "Epoch [6/50], Step [200/293], Loss: 0.0364\n",
      "Validation loss: 0.0471\n",
      "Epoch [7/50], Step [100/293], Loss: 0.0333\n",
      "Epoch [7/50], Step [200/293], Loss: 0.0312\n",
      "Validation loss: 0.0469\n",
      "Epoch [8/50], Step [100/293], Loss: 0.0310\n",
      "Epoch [8/50], Step [200/293], Loss: 0.0368\n",
      "Validation loss: 0.0440\n",
      "Epoch [9/50], Step [100/293], Loss: 0.0365\n",
      "Epoch [9/50], Step [200/293], Loss: 0.0283\n",
      "Validation loss: 0.0441\n",
      "Epoch [10/50], Step [100/293], Loss: 0.0279\n",
      "Epoch [10/50], Step [200/293], Loss: 0.0412\n",
      "Validation loss: 0.0468\n",
      "Epoch [11/50], Step [100/293], Loss: 0.0324\n",
      "Epoch [11/50], Step [200/293], Loss: 0.0339\n",
      "Validation loss: 0.0441\n",
      "Epoch [12/50], Step [100/293], Loss: 0.0315\n",
      "Epoch [12/50], Step [200/293], Loss: 0.0260\n",
      "Validation loss: 0.0451\n",
      "Epoch [13/50], Step [100/293], Loss: 0.0387\n",
      "Epoch [13/50], Step [200/293], Loss: 0.0301\n",
      "Validation loss: 0.0456\n",
      "Epoch [14/50], Step [100/293], Loss: 0.0307\n",
      "Epoch [14/50], Step [200/293], Loss: 0.0301\n",
      "Validation loss: 0.0426\n",
      "Epoch [15/50], Step [100/293], Loss: 0.0285\n",
      "Epoch [15/50], Step [200/293], Loss: 0.0211\n",
      "Validation loss: 0.0424\n",
      "Epoch [16/50], Step [100/293], Loss: 0.0359\n",
      "Epoch [16/50], Step [200/293], Loss: 0.0243\n",
      "Validation loss: 0.0443\n",
      "Epoch [17/50], Step [100/293], Loss: 0.0254\n",
      "Epoch [17/50], Step [200/293], Loss: 0.0247\n",
      "Validation loss: 0.0435\n",
      "Epoch [18/50], Step [100/293], Loss: 0.0284\n",
      "Epoch [18/50], Step [200/293], Loss: 0.0359\n",
      "Validation loss: 0.0446\n",
      "Epoch [19/50], Step [100/293], Loss: 0.0284\n",
      "Epoch [19/50], Step [200/293], Loss: 0.0259\n",
      "Validation loss: 0.0433\n",
      "Epoch [20/50], Step [100/293], Loss: 0.0315\n",
      "Epoch [20/50], Step [200/293], Loss: 0.0270\n",
      "Validation loss: 0.0449\n",
      "Epoch [21/50], Step [100/293], Loss: 0.0214\n",
      "Epoch [21/50], Step [200/293], Loss: 0.0267\n",
      "Validation loss: 0.0412\n",
      "Epoch [22/50], Step [100/293], Loss: 0.0181\n",
      "Epoch [22/50], Step [200/293], Loss: 0.0234\n",
      "Validation loss: 0.0421\n",
      "Epoch [23/50], Step [100/293], Loss: 0.0280\n",
      "Epoch [23/50], Step [200/293], Loss: 0.0162\n",
      "Validation loss: 0.0435\n",
      "Epoch [24/50], Step [100/293], Loss: 0.0256\n",
      "Epoch [24/50], Step [200/293], Loss: 0.0238\n",
      "Validation loss: 0.0431\n",
      "Epoch [25/50], Step [100/293], Loss: 0.0285\n",
      "Epoch [25/50], Step [200/293], Loss: 0.0280\n",
      "Validation loss: 0.0415\n",
      "Epoch [26/50], Step [100/293], Loss: 0.0233\n",
      "Epoch [26/50], Step [200/293], Loss: 0.0213\n",
      "Validation loss: 0.0443\n",
      "Epoch [27/50], Step [100/293], Loss: 0.0247\n",
      "Epoch [27/50], Step [200/293], Loss: 0.0251\n",
      "Validation loss: 0.0419\n",
      "Epoch [28/50], Step [100/293], Loss: 0.0286\n",
      "Epoch [28/50], Step [200/293], Loss: 0.0225\n",
      "Validation loss: 0.0420\n",
      "Epoch [29/50], Step [100/293], Loss: 0.0244\n",
      "Epoch [29/50], Step [200/293], Loss: 0.0288\n",
      "Validation loss: 0.0413\n",
      "Epoch [30/50], Step [100/293], Loss: 0.0236\n",
      "Epoch [30/50], Step [200/293], Loss: 0.0277\n",
      "Validation loss: 0.0410\n",
      "Epoch [31/50], Step [100/293], Loss: 0.0286\n",
      "Epoch [31/50], Step [200/293], Loss: 0.0221\n",
      "Validation loss: 0.0414\n",
      "Epoch [32/50], Step [100/293], Loss: 0.0268\n",
      "Epoch [32/50], Step [200/293], Loss: 0.0254\n",
      "Validation loss: 0.0427\n",
      "Epoch [33/50], Step [100/293], Loss: 0.0169\n",
      "Epoch [33/50], Step [200/293], Loss: 0.0260\n",
      "Validation loss: 0.0418\n",
      "Epoch [34/50], Step [100/293], Loss: 0.0157\n",
      "Epoch [34/50], Step [200/293], Loss: 0.0240\n",
      "Validation loss: 0.0431\n",
      "Epoch [35/50], Step [100/293], Loss: 0.0241\n",
      "Epoch [35/50], Step [200/293], Loss: 0.0196\n",
      "Validation loss: 0.0412\n",
      "Epoch [36/50], Step [100/293], Loss: 0.0274\n",
      "Epoch [36/50], Step [200/293], Loss: 0.0291\n",
      "Validation loss: 0.0410\n",
      "Epoch [37/50], Step [100/293], Loss: 0.0193\n",
      "Epoch [37/50], Step [200/293], Loss: 0.0155\n",
      "Validation loss: 0.0431\n",
      "Epoch [38/50], Step [100/293], Loss: 0.0287\n",
      "Epoch [38/50], Step [200/293], Loss: 0.0128\n",
      "Validation loss: 0.0413\n",
      "Epoch [39/50], Step [100/293], Loss: 0.0189\n",
      "Epoch [39/50], Step [200/293], Loss: 0.0186\n",
      "Validation loss: 0.0424\n",
      "Epoch [40/50], Step [100/293], Loss: 0.0207\n",
      "Epoch [40/50], Step [200/293], Loss: 0.0201\n",
      "Validation loss: 0.0440\n",
      "Epoch [41/50], Step [100/293], Loss: 0.0281\n",
      "Epoch [41/50], Step [200/293], Loss: 0.0188\n",
      "Validation loss: 0.0420\n",
      "Epoch [42/50], Step [100/293], Loss: 0.0209\n",
      "Epoch [42/50], Step [200/293], Loss: 0.0200\n",
      "Validation loss: 0.0398\n",
      "Epoch [43/50], Step [100/293], Loss: 0.0210\n",
      "Epoch [43/50], Step [200/293], Loss: 0.0258\n",
      "Validation loss: 0.0401\n",
      "Epoch [44/50], Step [100/293], Loss: 0.0223\n",
      "Epoch [44/50], Step [200/293], Loss: 0.0228\n",
      "Validation loss: 0.0416\n",
      "Epoch [45/50], Step [100/293], Loss: 0.0194\n",
      "Epoch [45/50], Step [200/293], Loss: 0.0219\n",
      "Validation loss: 0.0401\n",
      "Epoch [46/50], Step [100/293], Loss: 0.0189\n",
      "Epoch [46/50], Step [200/293], Loss: 0.0164\n",
      "Validation loss: 0.0416\n",
      "Epoch [47/50], Step [100/293], Loss: 0.0193\n",
      "Epoch [47/50], Step [200/293], Loss: 0.0268\n",
      "Validation loss: 0.0405\n",
      "Epoch [48/50], Step [100/293], Loss: 0.0293\n",
      "Epoch [48/50], Step [200/293], Loss: 0.0200\n",
      "Validation loss: 0.0401\n",
      "Epoch [49/50], Step [100/293], Loss: 0.0224\n",
      "Epoch [49/50], Step [200/293], Loss: 0.0198\n",
      "Validation loss: 0.0388\n",
      "Epoch [50/50], Step [100/293], Loss: 0.0196\n",
      "Epoch [50/50], Step [200/293], Loss: 0.0137\n",
      "Validation loss: 0.0427\n"
     ]
    }
   ],
   "execution_count": 242
  },
  {
   "metadata": {},
   "cell_type": "markdown",
   "source": "## Performance Analysis",
   "id": "4bb02b47f9bf6ff7"
  },
  {
   "metadata": {
    "ExecuteTime": {
     "end_time": "2024-12-17T01:50:18.279057Z",
     "start_time": "2024-12-17T01:50:18.237585Z"
    }
   },
   "cell_type": "code",
   "source": [
    "#predict average oxidation state\n",
    "\n",
    "def predict_avg_oxi_state(model, x):\n",
    "\n",
    "\tx = torch.Tensor(x).to(device)\n",
    "\toutput = model(x).detach()\n",
    "\treturn output\n",
    "\n",
    "output = predict_avg_oxi_state(model, x_test)\n"
   ],
   "id": "d81e6306912a19b8",
   "outputs": [],
   "execution_count": 243
  },
  {
   "metadata": {
    "ExecuteTime": {
     "end_time": "2024-12-17T01:50:18.304092Z",
     "start_time": "2024-12-17T01:50:18.290947Z"
    }
   },
   "cell_type": "code",
   "source": [
    "# print(output.numpy(), y_test)\n",
    "oxi_states = np.array(list(range(0,8)))\n",
    "avg_oxi_state = np.dot(y_test, oxi_states)\n",
    "avg_oxi_state_predicted = np.dot(output.numpy(), oxi_states)"
   ],
   "id": "e01e567b1425325d",
   "outputs": [],
   "execution_count": 244
  },
  {
   "metadata": {
    "ExecuteTime": {
     "end_time": "2024-12-17T01:50:18.410737Z",
     "start_time": "2024-12-17T01:50:18.327861Z"
    }
   },
   "cell_type": "code",
   "source": [
    "from sklearn.metrics import confusion_matrix, r2_score\n",
    "import matplotlib.pyplot as plt\n",
    "# confusion_matrix(avg_oxi_state, avg_oxi_state_predicted)\n",
    "plt.plot(avg_oxi_state, avg_oxi_state_predicted, 'o')\n",
    "plt.show()\n",
    "\n",
    "print(r2_score(avg_oxi_state, avg_oxi_state_predicted))"
   ],
   "id": "58076856d14e1dc1",
   "outputs": [
    {
     "data": {
      "text/plain": [
       "<Figure size 640x480 with 1 Axes>"
      ],
      "image/png": "[encoded data removed]"
     },
     "metadata": {},
     "output_type": "display_data"
    },
    {
     "name": "stdout",
     "output_type": "stream",
     "text": [
      "0.8199509033302314\n"
     ]
    }
   ],
   "execution_count": 245
  },
  {
   "metadata": {
    "ExecuteTime": {
     "end_time": "2024-12-17T01:50:18.450519Z",
     "start_time": "2024-12-17T01:50:18.444291Z"
    }
   },
   "cell_type": "code",
   "source": "",
   "id": "f118e867b8101f67",
   "outputs": [],
   "execution_count": null
  }
 ],
 "metadata": {
  "kernelspec": {
   "display_name": "Python 3",
   "language": "python",
   "name": "python3"
  },
  "language_info": {
   "codemirror_mode": {
    "name": "ipython",
    "version": 2
   },
   "file_extension": ".py",
   "mimetype": "text/x-python",
   "name": "python",
   "nbconvert_exporter": "python",
   "pygments_lexer": "ipython2",
   "version": "2.7.6"
  }
 },
 "nbformat": 4,
 "nbformat_minor": 5
}
