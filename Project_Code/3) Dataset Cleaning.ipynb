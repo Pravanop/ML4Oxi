{
 "cells": [
  {
   "cell_type": "code",
   "execution_count": null,
   "id": "initial_id",
   "metadata": {
    "collapsed": true
   },
   "outputs": [],
   "source": [
    ""
   ]
  },
  {
   "metadata": {},
   "cell_type": "markdown",
   "source": "## Correct Erroneous Data",
   "id": "efe64bd9eb315a6f"
  },
  {
   "metadata": {},
   "cell_type": "code",
   "outputs": [],
   "execution_count": null,
   "source": "",
   "id": "a4d055fba8155ef0"
  },
  {
   "metadata": {},
   "cell_type": "markdown",
   "source": "## Spectral Smoothing\n",
   "id": "81144f2a9d3e98dc"
  },
  {
   "metadata": {},
   "cell_type": "code",
   "outputs": [],
   "execution_count": null,
   "source": "",
   "id": "624256697d64b388"
  },
  {
   "metadata": {},
   "cell_type": "markdown",
   "source": "## Collate into a vector",
   "id": "a90a64695531937e"
  },
  {
   "metadata": {},
   "cell_type": "code",
   "outputs": [],
   "execution_count": null,
   "source": "",
   "id": "c192b1e532920f68"
  },
  {
   "metadata": {},
   "cell_type": "markdown",
   "source": "## Plot i/o statistics",
   "id": "933fab23eca75fb"
  },
  {
   "metadata": {},
   "cell_type": "code",
   "outputs": [],
   "execution_count": null,
   "source": "",
   "id": "e2a75d190dbeebea"
  }
 ],
 "metadata": {
  "kernelspec": {
   "display_name": "Python 3",
   "language": "python",
   "name": "python3"
  },
  "language_info": {
   "codemirror_mode": {
    "name": "ipython",
    "version": 2
   },
   "file_extension": ".py",
   "mimetype": "text/x-python",
   "name": "python",
   "nbconvert_exporter": "python",
   "pygments_lexer": "ipython2",
   "version": "2.7.6"
  }
 },
 "nbformat": 4,
 "nbformat_minor": 5
}
